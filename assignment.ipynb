{
 "cells": [
  {
   "cell_type": "code",
   "execution_count": 1,
   "id": "47d0accd-c56b-4f57-981d-db149b048409",
   "metadata": {},
   "outputs": [],
   "source": [
    "s = \"Vitesh\""
   ]
  },
  {
   "cell_type": "code",
   "execution_count": 3,
   "id": "6219cbd8-1737-4a74-aab5-999edaf1241c",
   "metadata": {},
   "outputs": [],
   "source": [
    "v = [1,5,7,9]"
   ]
  },
  {
   "cell_type": "code",
   "execution_count": null,
   "id": "6c10b0a6-6c04-4669-b60f-41b90e209787",
   "metadata": {
    "jupyter": {
     "source_hidden": true
    },
    "tags": []
   },
   "outputs": [],
   "source": [
    "k = 2.78\n"
   ]
  },
  {
   "cell_type": "code",
   "execution_count": null,
   "id": "467aaacb-3cd8-4974-86b2-fb4016b2d26a",
   "metadata": {},
   "outputs": [],
   "source": [
    "z = (1,9,89)"
   ]
  },
  {
   "cell_type": "code",
   "execution_count": null,
   "id": "7116ec6e-75e4-4e62-9b8c-2bd17ec401aa",
   "metadata": {},
   "outputs": [],
   "source": [
    "f = ''"
   ]
  },
  {
   "cell_type": "code",
   "execution_count": null,
   "id": "a60f62e5-3269-4e4d-966a-7758f28fab0e",
   "metadata": {},
   "outputs": [
    {
     "data": {
      "text/plain": [
       "str"
      ]
     },
     "execution_count": 9,
     "metadata": {},
     "output_type": "execute_result"
    }
   ],
   "source": [
    "type (f)\n"
   ]
  },
  {
   "cell_type": "code",
   "execution_count": 12,
   "id": "9c030d41-d808-40e7-9883-d7341b473674",
   "metadata": {},
   "outputs": [],
   "source": [
    "s = '[DS,ML,PYTHON]'"
   ]
  },
  {
   "cell_type": "code",
   "execution_count": 13,
   "id": "d8b62463-2870-4e83-90e4-36d8129e5b26",
   "metadata": {},
   "outputs": [
    {
     "data": {
      "text/plain": [
       "str"
      ]
     },
     "execution_count": 13,
     "metadata": {},
     "output_type": "execute_result"
    }
   ],
   "source": [
    "type (s)"
   ]
  },
  {
   "cell_type": "code",
   "execution_count": 14,
   "id": "bb7649df-57ea-4805-a4f8-d65b5917d9d0",
   "metadata": {},
   "outputs": [],
   "source": [
    "var_3 = ['DS','ML','PYTHON']"
   ]
  },
  {
   "cell_type": "code",
   "execution_count": 15,
   "id": "0b02c548-d0a6-4c63-a264-86071e3c181e",
   "metadata": {},
   "outputs": [
    {
     "data": {
      "text/plain": [
       "list"
      ]
     },
     "execution_count": 15,
     "metadata": {},
     "output_type": "execute_result"
    }
   ],
   "source": [
    "type(var_3)"
   ]
  },
  {
   "cell_type": "code",
   "execution_count": 16,
   "id": "d1fead34-967d-4aa7-a222-b5afdf6c7d38",
   "metadata": {},
   "outputs": [],
   "source": [
    "m = 1"
   ]
  },
  {
   "cell_type": "code",
   "execution_count": 18,
   "id": "80ed8651-a36b-4eb9-9e47-9634853e678e",
   "metadata": {},
   "outputs": [
    {
     "data": {
      "text/plain": [
       "int"
      ]
     },
     "execution_count": 18,
     "metadata": {},
     "output_type": "execute_result"
    }
   ],
   "source": [
    "type(m)"
   ]
  },
  {
   "cell_type": "code",
   "execution_count": 21,
   "id": "c3231643-cc8b-4ee8-9a7d-a122461c4847",
   "metadata": {},
   "outputs": [
    {
     "data": {
      "text/plain": [
       "'\\n/ operator is used for divison in python\\n% modulo operator gives remainder\\n// it gives the value of quiotient when two numbers are divided \\n** it is used for power of a number \\n'"
      ]
     },
     "execution_count": 21,
     "metadata": {},
     "output_type": "execute_result"
    }
   ],
   "source": [
    "\"\"\"\n",
    "/ operator is used for divison in python\n",
    "% modulo operator gives remainder\n",
    "// it gives the value of quiotient when two numbers are divided \n",
    "** it is used for power of a number \n",
    "\"\"\""
   ]
  },
  {
   "cell_type": "code",
   "execution_count": 27,
   "id": "e7c83b8e-f485-40e1-9de8-9cd2725d7fa0",
   "metadata": {},
   "outputs": [],
   "source": [
    "var_7 = [2,4.5,(1,9,45),\"VITESH\",[1,5,9],True,'7.8',False,\"ghk\",\"Yash\"]"
   ]
  },
  {
   "cell_type": "code",
   "execution_count": 28,
   "id": "f7c2692c-abaf-43d5-a1ca-effa9150f18b",
   "metadata": {},
   "outputs": [
    {
     "name": "stdout",
     "output_type": "stream",
     "text": [
      "Data: 2, Data type: int\n",
      "Data: 4.5, Data type: float\n",
      "Data: (1, 9, 45), Data type: tuple\n",
      "Data: VITESH, Data type: str\n",
      "Data: [1, 5, 9], Data type: list\n",
      "Data: True, Data type: bool\n",
      "Data: 7.8, Data type: str\n",
      "Data: False, Data type: bool\n",
      "Data: ghk, Data type: str\n",
      "Data: Yash, Data type: str\n"
     ]
    }
   ],
   "source": [
    "for element in var_7:\n",
    "    print(f\"Data: {element}, Data type: {type(element).__name__}\")\n"
   ]
  },
  {
   "cell_type": "code",
   "execution_count": null,
   "id": "63ec0703-efe9-4131-aff5-814b09a2db19",
   "metadata": {},
   "outputs": [],
   "source": [
    "#questiion no 6\n",
    "list_5 = [5,89,60,32,76,45,48,98,73,45,49,54,98,101,9,7,5,10,11,12,15,6,7,89,100]"
   ]
  },
  {
   "cell_type": "code",
   "execution_count": 37,
   "id": "05b8a4c6-d152-4ef1-803f-8cd4b643274e",
   "metadata": {},
   "outputs": [
    {
     "name": "stdout",
     "output_type": "stream",
     "text": [
      "5 is not divisible by 3\n",
      "89 is not divisible by 3\n",
      "60 is divisible by 3\n",
      "32 is not divisible by 3\n",
      "76 is not divisible by 3\n",
      "45 is divisible by 3\n",
      "48 is divisible by 3\n",
      "98 is not divisible by 3\n",
      "73 is not divisible by 3\n",
      "45 is divisible by 3\n",
      "49 is not divisible by 3\n",
      "54 is divisible by 3\n",
      "98 is not divisible by 3\n",
      "101 is not divisible by 3\n",
      "9 is divisible by 3\n",
      "7 is not divisible by 3\n",
      "5 is not divisible by 3\n",
      "10 is not divisible by 3\n",
      "11 is not divisible by 3\n",
      "12 is divisible by 3\n",
      "15 is divisible by 3\n",
      "6 is divisible by 3\n",
      "7 is not divisible by 3\n",
      "89 is not divisible by 3\n",
      "100 is not divisible by 3\n"
     ]
    }
   ],
   "source": [
    "for element in list_5:\n",
    "    if element % 3 == 0:\n",
    "        print (f\"{element} is divisible by 3\")\n",
    "    else:\n",
    "        print (f\"{element} is not divisible by 3\")"
   ]
  },
  {
   "cell_type": "code",
   "execution_count": null,
   "id": "c0e37954-046d-453c-a662-49d7f3d22729",
   "metadata": {},
   "outputs": [],
   "source": [
    "#Question no 5\n",
    "\n",
    "a = \n",
    "n =\n",
    "b = a//n"
   ]
  },
  {
   "cell_type": "code",
   "execution_count": null,
   "id": "22d2a10c-a679-4bc9-a8e7-07192c7f7588",
   "metadata": {},
   "outputs": [],
   "source": [
    "while a > n :\n",
    "    if a%n==0:\n",
    "        print(f\"{a} is divided by {n} for {b} times\")\n",
    "else:\n",
    "    print(f\"{a} is not divisible by {b}\")\n",
    "    \n"
   ]
  },
  {
   "cell_type": "code",
   "execution_count": null,
   "id": "68568cad-503d-4461-8a18-3aa11b0bcb28",
   "metadata": {},
   "outputs": [],
   "source": [
    "# Mutable can be changed or modified even after they are created \n",
    "\n",
    "list_ = [1,4,7,9]\n",
    "list_.append(21)"
   ]
  },
  {
   "cell_type": "code",
   "execution_count": null,
   "id": "0eea066f-8d80-496d-9924-191995183647",
   "metadata": {},
   "outputs": [],
   "source": [
    "# IMmutable objects cannont be changed after they are created "
   ]
  },
  {
   "cell_type": "code",
   "execution_count": null,
   "id": "f69bb95f-3d40-4b60-8b67-ab6b78ef1679",
   "metadata": {},
   "outputs": [],
   "source": [
    "name= \"vitesh\""
   ]
  },
  {
   "cell_type": "code",
   "execution_count": null,
   "id": "30a38191-27da-40e9-92d7-4a7abea48bed",
   "metadata": {},
   "outputs": [],
   "source": [
    "new_name= name + \"kumar\""
   ]
  }
 ],
 "metadata": {
  "kernelspec": {
   "display_name": "Python 3 (ipykernel)",
   "language": "python",
   "name": "python3"
  },
  "language_info": {
   "codemirror_mode": {
    "name": "ipython",
    "version": 3
   },
   "file_extension": ".py",
   "mimetype": "text/x-python",
   "name": "python",
   "nbconvert_exporter": "python",
   "pygments_lexer": "ipython3",
   "version": "3.10.8"
  },
  "toc-autonumbering": true,
  "toc-showtags": true
 },
 "nbformat": 4,
 "nbformat_minor": 5
}
