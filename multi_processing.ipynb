{
 "cells": [
  {
   "cell_type": "code",
   "execution_count": 1,
   "id": "1df5bb55-b757-44e1-8824-871db060b885",
   "metadata": {},
   "outputs": [],
   "source": [
    "#1 \n",
    "\n",
    "#Multiprocessing in Python is a technique that allows you to create and manage multiple processes within a single program, enabling true parallelism across multiple CPU cores."
   ]
  },
  {
   "cell_type": "code",
   "execution_count": 2,
   "id": "4c36131d-7aec-4d5a-a8e0-6538c4f0f006",
   "metadata": {},
   "outputs": [],
   "source": [
    "#2\n",
    "# Multiprocessing: Utilizes processes, each with its own independent memory space, resources, and execution path.\n",
    "# Multithreading: Leverages threads, operating within the same process memory space and sharing resources like the CPU but taking turns through time slicing."
   ]
  },
  {
   "cell_type": "code",
   "execution_count": 4,
   "id": "419b03c8-3d2a-4113-ad35-cdce34676668",
   "metadata": {},
   "outputs": [
    {
     "name": "stdout",
     "output_type": "stream",
     "text": [
      "128\n",
      "this is my muultiprocessing assignment\n"
     ]
    }
   ],
   "source": [
    "#3 \n",
    "\n",
    "import multiprocessing\n",
    "\n",
    "def test():\n",
    "    print(\"this is my muultiprocessing assignment\")\n",
    "\n",
    "if __name__ == \"__main__\":\n",
    "    m=multiprocessing.Process(target=test)\n",
    "    print(2**7)\n",
    "m.start()\n",
    "m.join()\n"
   ]
  },
  {
   "cell_type": "code",
   "execution_count": 5,
   "id": "9e3e5e71-d7ab-40b0-8447-98d244c92f8a",
   "metadata": {},
   "outputs": [],
   "source": [
    "#4\n",
    "\n",
    "#A multiprocessing pool in Python is a mechanism for managing a group of worker processes and efficiently distributing tasks among them.It is used for Efficient Task Management,Performance Optimization "
   ]
  },
  {
   "cell_type": "code",
   "execution_count": 6,
   "id": "1ab208fa-64bd-40b4-99e1-09bab9922800",
   "metadata": {},
   "outputs": [],
   "source": [
    "#5 \n",
    "# pool class can be used by importing it from multiprocessing class and then use it for various processes and data."
   ]
  },
  {
   "cell_type": "code",
   "execution_count": 11,
   "id": "4154acae-863f-442c-90f9-15f2463f6110",
   "metadata": {},
   "outputs": [
    {
     "name": "stdout",
     "output_type": "stream",
     "text": [
      "Process 1: I am printing number 1\n",
      "Process 2: I am printing number 2\n",
      "Process 3: I am printing number 3\n",
      "Process 4: I am printing number 4\n"
     ]
    }
   ],
   "source": [
    "#6 \n",
    "\n",
    "import multiprocessing\n",
    "\n",
    "def print_number(number):\n",
    "    print(f\"Process {number}: I am printing number {number}\")\n",
    "\n",
    "if __name__ == \"__main__\":\n",
    "    numbers = [1, 2, 3, 4]\n",
    "    processes = []\n",
    "\n",
    "    for number in numbers:\n",
    "        process = multiprocessing.Process(target=print_number, args=(number,))\n",
    "        processes.append(process)\n",
    "        process.start()\n",
    "\n",
    "    for process in processes:\n",
    "        process.join()  \n"
   ]
  },
  {
   "cell_type": "code",
   "execution_count": null,
   "id": "4d4d9168-b1ff-4a96-8ddd-a79b8f3d6b06",
   "metadata": {},
   "outputs": [],
   "source": []
  }
 ],
 "metadata": {
  "kernelspec": {
   "display_name": "Python 3 (ipykernel)",
   "language": "python",
   "name": "python3"
  },
  "language_info": {
   "codemirror_mode": {
    "name": "ipython",
    "version": 3
   },
   "file_extension": ".py",
   "mimetype": "text/x-python",
   "name": "python",
   "nbconvert_exporter": "python",
   "pygments_lexer": "ipython3",
   "version": "3.10.8"
  }
 },
 "nbformat": 4,
 "nbformat_minor": 5
}
