{
 "cells": [
  {
   "cell_type": "code",
   "execution_count": 1,
   "id": "be9d6335-c5f4-4a65-8db5-29dd3b15c7d8",
   "metadata": {},
   "outputs": [],
   "source": [
    "#1 \n",
    "#A technique that enables a program to execute multiple threads concurrently within a single process.\n",
    "#threading and time modules are used to handle "
   ]
  },
  {
   "cell_type": "code",
   "execution_count": 3,
   "id": "ee8eec63-f012-480a-a9d0-3229cf970cb6",
   "metadata": {},
   "outputs": [],
   "source": [
    "#2\n",
    "\n",
    "#Enables you to run multiple tasks simultaneously within a single program, enhancing responsiveness and potentially improving performance.\n",
    "\n",
    "#a activeCount(): Returns the current number of active threads in the program.\n",
    "#b  currentThread(): Returns a reference to the currently running thread.\n",
    "#C enumerate(): Returns a list of active thread objects."
   ]
  },
  {
   "cell_type": "code",
   "execution_count": 4,
   "id": "ce1f7e7e-dbee-4f1d-a0f8-46f314840143",
   "metadata": {},
   "outputs": [],
   "source": [
    "#3\n",
    "\n",
    "#run(): Contains the code to be executed by the thread.\n",
    "#start(): Initiates thread execution: Schedules the thread to run in the background.\n",
    "#join(): Waits for thread completion: Blocks the calling thread until the target thread finishes execution.\n",
    "#isAlive(): Checks thread status: Returns True if the thread is still running, False otherwise."
   ]
  },
  {
   "cell_type": "code",
   "execution_count": 7,
   "id": "377d7d66-c49f-4137-9c5d-b9ead06cb5f2",
   "metadata": {},
   "outputs": [
    {
     "name": "stdout",
     "output_type": "stream",
     "text": [
      "4\n",
      "8\n",
      "9\n",
      "27\n",
      "16\n",
      "25\n",
      "64\n",
      "36\n",
      "125\n",
      "49\n",
      "64\n",
      "216\n",
      "81\n",
      "343\n",
      "512\n",
      "729\n"
     ]
    }
   ],
   "source": [
    "#4 \n",
    "\n",
    "import threading\n",
    "import time\n",
    "def square_num(numbers):\n",
    "    for n in numbers:\n",
    "        n= n**2\n",
    "        print(n)\n",
    "        time.sleep(0.2)\n",
    "def cube_num(numbers):\n",
    "    for n in numbers:\n",
    "        n = n**3\n",
    "        print(n)\n",
    "        time.sleep(0.3)\n",
    "numbers = [2,3,4,5,6,7,8,9]\n",
    "\n",
    "t1=threading.Thread(target=square_num,args=(numbers,))\n",
    "t2=threading.Thread(target=cube_num,args=(numbers,))\n",
    "\n",
    "t1.start()\n",
    "t2.start()"
   ]
  },
  {
   "cell_type": "code",
   "execution_count": 8,
   "id": "eeb2e842-a939-4101-9915-9c621099fbfb",
   "metadata": {},
   "outputs": [],
   "source": [
    "#5 \n",
    "# Advantages: Improved responsiveness, enhanced performances, better user experience\n",
    "# Disadvantages: Complexity,Potential errors"
   ]
  },
  {
   "cell_type": "code",
   "execution_count": null,
   "id": "856649b7-a28d-4de7-9d71-6c8ed2de387e",
   "metadata": {},
   "outputs": [],
   "source": [
    "#6\n"
   ]
  }
 ],
 "metadata": {
  "kernelspec": {
   "display_name": "Python 3 (ipykernel)",
   "language": "python",
   "name": "python3"
  },
  "language_info": {
   "codemirror_mode": {
    "name": "ipython",
    "version": 3
   },
   "file_extension": ".py",
   "mimetype": "text/x-python",
   "name": "python",
   "nbconvert_exporter": "python",
   "pygments_lexer": "ipython3",
   "version": "3.10.8"
  }
 },
 "nbformat": 4,
 "nbformat_minor": 5
}
