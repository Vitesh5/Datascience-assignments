{
 "cells": [
  {
   "cell_type": "markdown",
   "id": "30390b6f-78d0-48dc-b51f-98a6a530e136",
   "metadata": {},
   "source": [
    "We can do comment in python using 2 ways there are 2 types of comments a) single line it can be used by # symbol b) multiline comment it can bes used by \"\"\" \"\"\" at the start and end of the comments"
   ]
  },
  {
   "cell_type": "code",
   "execution_count": 2,
   "id": "15a3083a-fff2-422b-8c89-4841e1901fce",
   "metadata": {},
   "outputs": [],
   "source": [
    "# 2. variables are the names that are used to store data. Here is an example \n",
    "apk=5\n",
    "#here apk is variable and 5 is the value stored in apk\n"
   ]
  },
  {
   "cell_type": "code",
   "execution_count": 3,
   "id": "41343caa-e6f3-456d-86bd-49b725283d85",
   "metadata": {},
   "outputs": [
    {
     "data": {
      "text/plain": [
       "int"
      ]
     },
     "execution_count": 3,
     "metadata": {},
     "output_type": "execute_result"
    }
   ],
   "source": [
    "#3. We can convert the data type by using type() function. Example:\n",
    "type(apk)"
   ]
  },
  {
   "cell_type": "code",
   "execution_count": 5,
   "id": "701c067b-f15f-44d1-86d4-7b8ac24d9a60",
   "metadata": {},
   "outputs": [
    {
     "data": {
      "text/plain": [
       "'5'"
      ]
     },
     "execution_count": 5,
     "metadata": {},
     "output_type": "execute_result"
    }
   ],
   "source": [
    " #we can convert the apk using function\n",
    "str(apk)"
   ]
  },
  {
   "cell_type": "code",
   "execution_count": 6,
   "id": "9096e890-fd70-4bcb-b894-3f4c57f97cfb",
   "metadata": {},
   "outputs": [],
   "source": [
    "#4 To write and command a pythonscript file we can use .py extension"
   ]
  },
  {
   "cell_type": "code",
   "execution_count": 10,
   "id": "24a93016-e0b3-4d4d-ba51-c5a351475eaa",
   "metadata": {},
   "outputs": [
    {
     "data": {
      "text/plain": [
       "[2, 3]"
      ]
     },
     "execution_count": 10,
     "metadata": {},
     "output_type": "execute_result"
    }
   ],
   "source": [
    "#5\n",
    "my_list=[1,2,3,4,5]\n",
    "my_list[1:3]"
   ]
  },
  {
   "cell_type": "code",
   "execution_count": 9,
   "id": "5f290fee-2090-449f-9e72-1c5ccb1af071",
   "metadata": {},
   "outputs": [
    {
     "data": {
      "text/plain": [
       "(1+2j)"
      ]
     },
     "execution_count": 9,
     "metadata": {},
     "output_type": "execute_result"
    }
   ],
   "source": [
    "#6 complex number is a form of a+bi in python it is denoted by\n",
    "complex(1,2)"
   ]
  },
  {
   "cell_type": "code",
   "execution_count": 11,
   "id": "4666afb3-b993-4d45-999f-f4bab634e42a",
   "metadata": {},
   "outputs": [],
   "source": [
    "#7\n",
    "age = 25"
   ]
  },
  {
   "cell_type": "code",
   "execution_count": 12,
   "id": "aac2ba07-2101-445f-bf3c-049abcbced79",
   "metadata": {},
   "outputs": [
    {
     "data": {
      "text/plain": [
       "float"
      ]
     },
     "execution_count": 12,
     "metadata": {},
     "output_type": "execute_result"
    }
   ],
   "source": [
    "#8\n",
    "price=9.99\n",
    "type(price)"
   ]
  },
  {
   "cell_type": "code",
   "execution_count": 14,
   "id": "5c6f1e2f-de70-41c0-9241-96a5505bbc42",
   "metadata": {},
   "outputs": [
    {
     "name": "stdout",
     "output_type": "stream",
     "text": [
      "Vitesh Kumar Maturi\n"
     ]
    }
   ],
   "source": [
    "#9\n",
    "name=\"Vitesh Kumar Maturi\"\n",
    "print(name)"
   ]
  },
  {
   "cell_type": "code",
   "execution_count": 16,
   "id": "f479de85-41e6-4bee-a253-60e1cdb58867",
   "metadata": {},
   "outputs": [
    {
     "data": {
      "text/plain": [
       "'World'"
      ]
     },
     "execution_count": 16,
     "metadata": {},
     "output_type": "execute_result"
    }
   ],
   "source": [
    "#10\n",
    "hi=\"Hello,World!\"\n",
    "hi[6:11]"
   ]
  },
  {
   "cell_type": "code",
   "execution_count": null,
   "id": "c5448cfc-c273-43a6-b79c-10ff006c9300",
   "metadata": {},
   "outputs": [],
   "source": [
    "#11\n"
   ]
  }
 ],
 "metadata": {
  "kernelspec": {
   "display_name": "Python 3 (ipykernel)",
   "language": "python",
   "name": "python3"
  },
  "language_info": {
   "codemirror_mode": {
    "name": "ipython",
    "version": 3
   },
   "file_extension": ".py",
   "mimetype": "text/x-python",
   "name": "python",
   "nbconvert_exporter": "python",
   "pygments_lexer": "ipython3",
   "version": "3.10.8"
  }
 },
 "nbformat": 4,
 "nbformat_minor": 5
}
