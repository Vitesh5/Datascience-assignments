{
 "cells": [
  {
   "cell_type": "code",
   "execution_count": 1,
   "id": "67b68482-8f09-4977-acb8-87c4638aa688",
   "metadata": {},
   "outputs": [],
   "source": [
    "import pandas as pd"
   ]
  },
  {
   "cell_type": "code",
   "execution_count": 3,
   "id": "5f052a96-c85d-4253-b60e-c1e12dd1c562",
   "metadata": {},
   "outputs": [
    {
     "name": "stdout",
     "output_type": "stream",
     "text": [
      "0     4\n",
      "1     8\n",
      "2    15\n",
      "3    16\n",
      "4    23\n",
      "5    42\n",
      "dtype: int64\n"
     ]
    }
   ],
   "source": [
    "#1 \n",
    "\n",
    "data = [4,8,15,16,23,42]\n",
    "series = pd.Series(data)\n",
    "print(series)"
   ]
  },
  {
   "cell_type": "code",
   "execution_count": 4,
   "id": "61af64fa-bef4-481a-a762-284615122a4e",
   "metadata": {},
   "outputs": [
    {
     "name": "stdout",
     "output_type": "stream",
     "text": [
      "0    17\n",
      "1    26\n",
      "2    63\n",
      "3     6\n",
      "4    65\n",
      "5    78\n",
      "6    89\n",
      "7     5\n",
      "8    60\n",
      "9    45\n",
      "dtype: int64\n"
     ]
    }
   ],
   "source": [
    "#2\n",
    "my_list = [17,26,63,6, 65, 78, 89, 5, 60,45]\n",
    "series1 = pd.Series(my_list)\n",
    "print(series1)\n"
   ]
  },
  {
   "cell_type": "code",
   "execution_count": 9,
   "id": "49551b90-ef7d-47d5-81ae-12fb6467b27b",
   "metadata": {},
   "outputs": [
    {
     "data": {
      "text/html": [
       "<div>\n",
       "<style scoped>\n",
       "    .dataframe tbody tr th:only-of-type {\n",
       "        vertical-align: middle;\n",
       "    }\n",
       "\n",
       "    .dataframe tbody tr th {\n",
       "        vertical-align: top;\n",
       "    }\n",
       "\n",
       "    .dataframe thead th {\n",
       "        text-align: right;\n",
       "    }\n",
       "</style>\n",
       "<table border=\"1\" class=\"dataframe\">\n",
       "  <thead>\n",
       "    <tr style=\"text-align: right;\">\n",
       "      <th></th>\n",
       "      <th>Name</th>\n",
       "      <th>Age</th>\n",
       "      <th>Gender</th>\n",
       "    </tr>\n",
       "  </thead>\n",
       "  <tbody>\n",
       "    <tr>\n",
       "      <th>0</th>\n",
       "      <td>Alice</td>\n",
       "      <td>25</td>\n",
       "      <td>Female</td>\n",
       "    </tr>\n",
       "    <tr>\n",
       "      <th>1</th>\n",
       "      <td>Bob</td>\n",
       "      <td>30</td>\n",
       "      <td>Male</td>\n",
       "    </tr>\n",
       "    <tr>\n",
       "      <th>2</th>\n",
       "      <td>Claire</td>\n",
       "      <td>27</td>\n",
       "      <td>Female</td>\n",
       "    </tr>\n",
       "  </tbody>\n",
       "</table>\n",
       "</div>"
      ],
      "text/plain": [
       "     Name  Age  Gender\n",
       "0   Alice   25  Female\n",
       "1     Bob   30    Male\n",
       "2  Claire   27  Female"
      ]
     },
     "execution_count": 9,
     "metadata": {},
     "output_type": "execute_result"
    }
   ],
   "source": [
    "#3 \n",
    "\n",
    "data1 = {\n",
    "\"Name\": ['Alice' ,'Bob' , 'Claire'],\n",
    "\"Age\":[25,30,27],\n",
    "\"Gender\":['Female','Male','Female']\n",
    "}\n",
    "\n",
    "df = pd.DataFrame(data1)\n",
    "df"
   ]
  },
  {
   "cell_type": "code",
   "execution_count": 10,
   "id": "8815bea5-2ab2-4b2b-a064-a1658b606fc1",
   "metadata": {},
   "outputs": [
    {
     "name": "stdout",
     "output_type": "stream",
     "text": [
      "0    17\n",
      "1    26\n",
      "2    63\n",
      "3     6\n",
      "4    65\n",
      "5    78\n",
      "6    89\n",
      "7     5\n",
      "8    60\n",
      "9    45\n",
      "dtype: int64\n",
      "     Name  Age  Gender\n",
      "0   Alice   25  Female\n",
      "1     Bob   30    Male\n",
      "2  Claire   27  Female\n"
     ]
    }
   ],
   "source": [
    "#4 \n",
    "#In Pandas, a DataFrame is a two-dimensional labeled data structure capable of holding data of different types (e.g., integer, float, string, etc.) in its columns.\n",
    "#Pandas Series is a one-dimensional labeled array capable of holding data of any type (e.g., integer, float, string, etc.)\n",
    "\n",
    "#Examples are \n",
    "\n",
    "\n",
    "print(series1)\n",
    "print(df)"
   ]
  },
  {
   "cell_type": "code",
   "execution_count": 11,
   "id": "a6ab5145-a859-492a-85ac-f37e314652a6",
   "metadata": {},
   "outputs": [],
   "source": [
    "#5\n",
    "# There are many fuctions in pandas u can use to manipulate data such as head() , tail(),fillna(),info(),describe(). \n",
    "#For example if you dont kn0w the details about the data set you can use info() function and want to know the first and last rows of the data u can use head and tail function"
   ]
  },
  {
   "cell_type": "code",
   "execution_count": 12,
   "id": "c90b1c63-835b-413d-9839-889190a92064",
   "metadata": {},
   "outputs": [],
   "source": [
    "#6\n",
    "#Among the options provided, both Series and DataFrame are mutable in nature, while Panel is not."
   ]
  },
  {
   "cell_type": "code",
   "execution_count": 13,
   "id": "386f264f-c041-45b9-93d4-0d0e4edd4ecd",
   "metadata": {},
   "outputs": [
    {
     "name": "stdout",
     "output_type": "stream",
     "text": [
      "   numbers letters\n",
      "0       10       A\n",
      "1       20       B\n",
      "2       30       C\n",
      "3       40       D\n",
      "4       50       E\n"
     ]
    }
   ],
   "source": [
    "#7 \n",
    "series1 = pd.Series([10, 20, 30, 40, 50], name='numbers')\n",
    "series2 = pd.Series(['A', 'B', 'C', 'D', 'E'], name='letters')\n",
    "\n",
    "df = pd.DataFrame({'numbers': series1, 'letters': series2})\n",
    "\n",
    "\n",
    "print(df)\n"
   ]
  },
  {
   "cell_type": "code",
   "execution_count": null,
   "id": "196bd691-33ce-4188-8b24-70dd3cf5ed5c",
   "metadata": {},
   "outputs": [],
   "source": []
  }
 ],
 "metadata": {
  "kernelspec": {
   "display_name": "Python 3 (ipykernel)",
   "language": "python",
   "name": "python3"
  },
  "language_info": {
   "codemirror_mode": {
    "name": "ipython",
    "version": 3
   },
   "file_extension": ".py",
   "mimetype": "text/x-python",
   "name": "python",
   "nbconvert_exporter": "python",
   "pygments_lexer": "ipython3",
   "version": "3.10.8"
  }
 },
 "nbformat": 4,
 "nbformat_minor": 5
}
