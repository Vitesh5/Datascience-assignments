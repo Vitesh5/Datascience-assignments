{
 "cells": [
  {
   "cell_type": "markdown",
   "id": "83ac9fd4-d906-4f41-8843-86c84d78d43d",
   "metadata": {},
   "source": [
    "#1 \n",
    "#Statistics is a branch of mathematics that deals with collecting, analyzing, interpreting, presenting, and organizing numerical data. Its primary objective is to gain insights, make decisions, and draw conclusions about a population based on a representative sample of that population."
   ]
  },
  {
   "cell_type": "markdown",
   "id": "c3475b0c-b69a-4e10-a6a4-9230bc312a0c",
   "metadata": {},
   "source": [
    "#2\n",
    "#Descriptive Statistics:\n",
    "Descriptive statistics involves methods for summarizing and describing the features of a dataset. It provides simple summaries about the sample and the measures of the data.\n",
    "Inferential Statistics:\n",
    "Inferential statistics involves making inferences or predictions about a population based on a sample of data. It allows researchers to generalize findings from a sample to a larger population and to assess the reliability and significance of their results.\n",
    "\n",
    "example : Descriptive stats find mean,mode,sd of the data while inferential take a sample from the popoulation d it and inference it to the whole population"
   ]
  },
  {
   "cell_type": "markdown",
   "id": "a3c40761-28dc-4d3a-b57d-82ec62b75bc7",
   "metadata": {},
   "source": [
    "#3\n",
    "Data can be categorized into different types based on their nature and characteristics. The main types of data are:\n",
    "\n",
    "Nominal Data:\n",
    "Nominal data consists of categories or labels without any inherent order or ranking. It is qualitative data that represents distinct categories or groups.\n",
    "\n",
    "Example:\n",
    "Colors of cars (e.g., red, blue, green) or types of animals (e.g., dog, cat, bird) are examples of nominal data. Each category is distinct, but there is no inherent order or ranking among them.\n",
    "\n",
    "Ordinal Data:\n",
    "Ordinal data represents categories with a meaningful order or ranking, but the intervals between categories may not be equal. It is qualitative or quantitative data that can be ordered or ranked.\n",
    "\n",
    "Example:\n",
    "Educational attainment level (e.g., elementary school, high school, college, graduate school) is an example of ordinal data. While there is a meaningful order or ranking (e.g., graduate school > college > high school > elementary school), the difference in educational attainment between each level is not necessarily equal.\n",
    "\n",
    "Interval Data:\n",
    "Interval data represents numerical data where the intervals between adjacent values are equal, but there is no true zero point. It is quantitative data that allows for meaningful mathematical operations such as addition and subtraction.\n",
    "\n",
    "Example:\n",
    "Temperature measured in Celsius or Fahrenheit is an example of interval data. While the intervals between temperature readings are consistent (e.g., the difference between 10°C and 20°C is the same as the difference between 20°C and 30°C), a temperature of 0°C or 0°F does not represent the absence of temperature.\n",
    "\n",
    "Ratio Data:\n",
    "Ratio data is similar to interval data but has a true zero point, indicating the absence of the measured attribute. It is quantitative data that allows for meaningful mathematical operations including multiplication and division.\n",
    "\n",
    "Example:\n",
    "Height, weight, and age are examples of ratio data. A person's height of 0 meters or weight of 0 kilograms indicates the absence of height or weight, making them ratio data."
   ]
  },
  {
   "cell_type": "markdown",
   "id": "fd87e7e4-2eba-407e-b6fc-566fcb79ee0a",
   "metadata": {},
   "source": [
    "4\n",
    "\n",
    "A) Qualitative Data: (i) Grading in exam, (ii) Colour of mangoes\n",
    "B) Quantitative Data: (iii) Height data of a class, (iv) Number of mangoes exported by a farm"
   ]
  },
  {
   "cell_type": "markdown",
   "id": "ec29a4dd-3662-4d27-a193-10d75589cd7a",
   "metadata": {},
   "source": [
    "5\n",
    "\n",
    "\n",
    "Levels of measurement, also known as scales of measurement, refer to the different ways in which variables can be categorized or measured. There are four main levels of measurement: nominal, ordinal, interval, and ratio. Each level represents a progressively more sophisticated way of measuring variables, with each level building upon the characteristics of the previous level.\n",
    "\n",
    "1. Nominal Level of Measurement:\n",
    "   At the nominal level, variables are categorized into distinct, unordered categories or groups. Nominal data only allows for classification or labeling of data without any inherent order or ranking.\n",
    "   \n",
    "   Example:\n",
    "   Eye color (e.g., blue, brown, green) is an example of a variable measured at the nominal level. Each category represents a distinct group, but there is no inherent order or ranking among them.\n",
    "\n",
    "2. Ordinal Level of Measurement:\n",
    "   At the ordinal level, variables are categorized into distinct, ordered categories or groups. Ordinal data allows for ranking or ordering of data, but the intervals between categories may not be equal.\n",
    "   \n",
    "   Example:\n",
    "   Educational attainment level (e.g., elementary school, high school, college, graduate school) is an example of a variable measured at the ordinal level. While there is a meaningful order or ranking (e.g., graduate school > college > high school > elementary school), the difference in educational attainment between each level is not necessarily equal.\n",
    "\n",
    "3. Interval Level of Measurement:\n",
    "   At the interval level, variables are measured on a scale where the intervals between adjacent values are equal. Interval data allows for meaningful mathematical operations such as addition and subtraction, but there is no true zero point.\n",
    "   \n",
    "   Example:\n",
    "   Temperature measured in Celsius or Fahrenheit is an example of a variable measured at the interval level. The difference between 10°C and 20°C is the same as the difference between 20°C and 30°C, but a temperature of 0°C does not indicate the absence of temperature.\n",
    "\n",
    "4. Ratio Level of Measurement:\n",
    "   At the ratio level, variables are measured on a scale where the intervals between adjacent values are equal, and there is a true zero point indicating the absence of the measured attribute. Ratio data allows for all mathematical operations, including multiplication and division.\n",
    "   \n",
    "   Example:\n",
    "   Height, weight, and age are examples of variables measured at the ratio level. A person's height of 0 meters or weight of 0 kilograms indicates the absence of height or weight, making them ratio data.\n",
    "\n"
   ]
  },
  {
   "cell_type": "markdown",
   "id": "4a21d87b-4540-4caa-9482-35bfc370dd9b",
   "metadata": {},
   "source": [
    "6\n",
    "\n",
    "Understanding the level of measurement of variables is crucial when analyzing data because it determines the types of statistical analyses that can be applied and the meaningfulness of the results obtained. Here are several reasons why understanding the level of measurement is important:\n",
    "\n",
    "1.Appropriate Statistical Techniques\n",
    "2. Interpretation of Results\n",
    "3. Validity of Conclusions\n",
    "4. Data Manipulation and Transformation\n",
    "\n",
    "\n",
    "Example:\n",
    "\n",
    "\n",
    "Suppose we have data on the educational attainment level of individuals, categorized as \"Elementary School,\" \"High School,\" \"College,\" and \"Graduate School.\" If we incorrectly treat this ordinal data as nominal data, we might count the number of individuals in each category and compute percentages without considering the order of educational attainment. However, understanding that the data is ordinal allows us to analyze trends such as the proportion of individuals with higher levels of education relative to lower levels, providing more meaningful insights into educational achievements."
   ]
  },
  {
   "cell_type": "markdown",
   "id": "7d2a0d25-22f0-41ef-b749-abadad5717b3",
   "metadata": {},
   "source": [
    "7\n",
    "\n",
    "Nominal and ordinal data types are both categories of qualitative data, but they differ in terms of the level of measurement and the nature of the categories they represent. Here's how they differ:\n",
    "\n",
    "1.Nature of Categories\n",
    "   - Nominal Data: Nominal data consists of categories or labels without any inherent order or ranking. Each category represents a distinct group, but there is no meaningful order among them.\n",
    "   - Ordinal Data: Ordinal data also consists of categories or labels, but these categories have a meaningful order or ranking. The categories can be arranged in a sequence from lowest to highest or vice versa, indicating a relative position or preference.\n",
    " \n",
    "    \n",
    "    \n",
    "    Examples\n",
    "    \n",
    "    \n",
    "    \n",
    "    Nominal Data: Examples of nominal data include categories such as gender (male, female), marital status (single, married, divorced), eye color (blue, brown, green), or types of fruits (apple, banana, orange).\n",
    "    Ordinal Data: Examples of ordinal data include categories such as educational attainment level (elementary school, high school, college, graduate school), socioeconomic status (low income, middle income, high income), or customer satisfaction ratings (poor, fair, good, excellent).\n"
   ]
  },
  {
   "cell_type": "markdown",
   "id": "5f066a97-c50a-4b23-b2ea-434d4a1fb74b",
   "metadata": {},
   "source": [
    "8\n",
    "\n",
    "\n",
    "A type of plot commonly used to display data in terms of range is a box plot, also known as a box-and-whisker plot. \n",
    "\n",
    "A box plot visually represents the distribution of a dataset, focusing on the central tendency and variability of the data. It displays the following key statistics:\n",
    "- The median (or second quartile) represented by a line inside the box.\n",
    "- The interquartile range (IQR), which is the range between the first quartile (25th percentile) and the third quartile (75th percentile), depicted by the width of the box.\n",
    "- The whiskers extend from the edges of the box to the minimum and maximum values within a certain range.\n",
    "\n",
    "Box plots are particularly useful for comparing distributions of data, identifying outliers, and understanding the spread and variability of a dataset. They are especially effective when dealing with large datasets or multiple groups of data.\n",
    "\n",
    "In summary, a box plot is the type of plot commonly used to display data in terms of range, providing a visual representation of the spread of data along with important summary statistics.\n"
   ]
  },
  {
   "cell_type": "markdown",
   "id": "8624fd6a-cc8c-4776-98d7-d3023bc3c3e1",
   "metadata": {},
   "source": [
    "9\n",
    "\n",
    "\n",
    "Descriptive and inferential statistics are two branches of statistics that serve different purposes in analyzing and interpreting data:\n",
    "\n",
    "\n",
    "   Descriptive Example:\n",
    "   Let's consider a dataset containing the ages of individuals in a population. Descriptive statistics can be used to calculate measures such as the mean age, median age, and standard deviation to summarize the central tendency and variability of ages in the population. Additionally, graphical representations such as histograms or box plots can be used to visualize the distribution of ages.\n",
    "\n",
    "\n",
    "   Inferential Example:\n",
    "   Suppose a researcher wants to investigate whether there is a significant difference in test scores between two groups of students: those who received tutoring and those who did not. The researcher collects test scores from both groups and uses inferential statistics, such as a t-test or analysis of variance (ANOVA), to determine whether the difference in test scores between the groups is statistically significant. By analyzing the sample data, the researcher can make inferences about the population and draw conclusions about the effectiveness of tutoring.\n",
    "\n",
    "In summary, descriptive statistics are used to summarize and describe data, while inferential statistics are used to make inferences and predictions about populations based on sample data. Both types of statistics play important roles in analyzing data, drawing conclusions, and making informed decisions in research and practical applications."
   ]
  },
  {
   "cell_type": "markdown",
   "id": "fdab1950-73fc-4dce-9c0b-1071e8518660",
   "metadata": {},
   "source": [
    "10\n",
    "\n",
    "\n",
    "\n",
    "Measures of Central Tendency:\n",
    "1. Mean:The mean, often referred to as the average, is calculated by summing up all the values in a dataset and dividing by the total number of values. It represents the central value around which the data points are distributed.\n",
    "   \n",
    " \n",
    "\n",
    "2. Median: The median is the middle value of a dataset when the values are arranged in ascending or descending order. It represents the value that separates the higher half from the lower half of the dataset.\n",
    "   \n",
    "\n",
    "\n",
    "\n",
    "Measures of Variability:\n",
    "\n",
    "\n",
    "\n",
    "1. Variance: The variance measures the average squared deviation of each data point from the mean of the dataset. It quantifies the spread of data points around the mean.\n",
    "   \n",
    "   Example: In a dataset of test scores, variance indicates how much the scores deviate from the average score.\n",
    "\n",
    "2. Standard Deviation: The standard deviation is the square root of the variance. It provides a measure of the average distance between each data point and the mean of the dataset.\n",
    "   \n",
    "   Example: A small standard deviation indicates that the data points are close to the mean, while a large standard deviation indicates that the data points are spread out.\n",
    "\n"
   ]
  },
  {
   "cell_type": "code",
   "execution_count": null,
   "id": "7b72791e-8e8e-45b8-b3b4-365ba75d7f36",
   "metadata": {},
   "outputs": [],
   "source": []
  }
 ],
 "metadata": {
  "kernelspec": {
   "display_name": "Python 3 (ipykernel)",
   "language": "python",
   "name": "python3"
  },
  "language_info": {
   "codemirror_mode": {
    "name": "ipython",
    "version": 3
   },
   "file_extension": ".py",
   "mimetype": "text/x-python",
   "name": "python",
   "nbconvert_exporter": "python",
   "pygments_lexer": "ipython3",
   "version": "3.10.8"
  }
 },
 "nbformat": 4,
 "nbformat_minor": 5
}
