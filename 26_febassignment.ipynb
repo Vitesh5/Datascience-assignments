{
 "cells": [
  {
   "cell_type": "code",
   "execution_count": 3,
   "id": "4f294d3e-2c42-493b-bcdd-362ad380cc8c",
   "metadata": {},
   "outputs": [
    {
     "name": "stdout",
     "output_type": "stream",
     "text": [
      "Data type of list_: <class 'list'>\n",
      "Data type of array_list: <class 'numpy.ndarray'>\n"
     ]
    }
   ],
   "source": [
    "#1 if array_list is assigned to an array  from a library like NumPy then there would be a difference.\n",
    "\n",
    "import numpy as np  # Importing NumPy library for arrays\n",
    "\n",
    "# Assuming list_ is assigned to a list\n",
    "list_ = [1, 2, 3, 4, 5]\n",
    "\n",
    "# Assuming array_list is assigned to a NumPy array\n",
    "array_list = np.array([1, 2, 3, 4, 5])\n",
    "\n",
    "# Printing data types\n",
    "print(\"Data type of list_:\", type(list_))\n",
    "print(\"Data type of array_list:\", type(array_list))\n",
    "\n"
   ]
  },
  {
   "cell_type": "code",
   "execution_count": 4,
   "id": "a95352ee-7cf8-4e6e-abdb-0972aba4c84a",
   "metadata": {},
   "outputs": [
    {
     "name": "stdout",
     "output_type": "stream",
     "text": [
      "\n",
      "Data type of elements in array_list:\n",
      "<class 'numpy.int64'>\n",
      "<class 'numpy.int64'>\n",
      "<class 'numpy.int64'>\n",
      "<class 'numpy.int64'>\n",
      "<class 'numpy.int64'>\n"
     ]
    }
   ],
   "source": [
    "#2 \n",
    "print(\"\\nData type of elements in array_list:\")\n",
    "for item in array_list:\n",
    "    print(type(item))"
   ]
  },
  {
   "cell_type": "code",
   "execution_count": 5,
   "id": "1bcad4c1-580f-49c1-9266-354f741562ea",
   "metadata": {},
   "outputs": [
    {
     "name": "stdout",
     "output_type": "stream",
     "text": [
      "\n",
      "Data type of elements in array_list:\n",
      "<class 'numpy.int64'>\n",
      "<class 'numpy.int64'>\n",
      "<class 'numpy.int64'>\n",
      "<class 'numpy.int64'>\n",
      "<class 'numpy.int64'>\n"
     ]
    }
   ],
   "source": [
    "#3 \n",
    "array_list = np.array(object=list_, dtype=int)\n",
    "\n",
    "print(\"\\nData type of elements in array_list:\")\n",
    "for item in array_list:\n",
    "    print(type(item))"
   ]
  },
  {
   "cell_type": "code",
   "execution_count": 7,
   "id": "7e183874-8a17-44c1-b668-630740f65abd",
   "metadata": {},
   "outputs": [],
   "source": [
    "import numpy as np\n",
    "num_list = [ [ 1 , 2 , 3 ] , [ 4 , 5 , 6 ] ]\n",
    "num_array = np.array(object = num_list)"
   ]
  },
  {
   "cell_type": "code",
   "execution_count": 8,
   "id": "54563745-5ce1-4b38-904d-69c22e460bc3",
   "metadata": {},
   "outputs": [
    {
     "name": "stdout",
     "output_type": "stream",
     "text": [
      "(2, 3)\n",
      "6\n"
     ]
    }
   ],
   "source": [
    "#4 \n",
    "\n",
    "arr_shape = num_array.shape\n",
    "arr_size = num_array.size\n",
    "\n",
    "print(arr_shape)\n",
    "print(arr_size)"
   ]
  },
  {
   "cell_type": "code",
   "execution_count": 16,
   "id": "96420908-7b06-4440-b2fc-ede097ad3197",
   "metadata": {},
   "outputs": [
    {
     "data": {
      "text/plain": [
       "array([[0, 0, 0],\n",
       "       [0, 0, 0],\n",
       "       [0, 0, 0]])"
      ]
     },
     "execution_count": 16,
     "metadata": {},
     "output_type": "execute_result"
    }
   ],
   "source": [
    "#5\n",
    "data=np.random.randint(0,1,(3,3))\n",
    "\n",
    "data"
   ]
  },
  {
   "cell_type": "code",
   "execution_count": 17,
   "id": "ae7fcf42-d42e-4560-8c7e-1f955eb12bfc",
   "metadata": {},
   "outputs": [
    {
     "data": {
      "text/plain": [
       "array([[1, 0, 0, 0, 0],\n",
       "       [0, 1, 0, 0, 0],\n",
       "       [0, 0, 1, 0, 0],\n",
       "       [0, 0, 0, 1, 0],\n",
       "       [0, 0, 0, 0, 1]])"
      ]
     },
     "execution_count": 17,
     "metadata": {},
     "output_type": "execute_result"
    }
   ],
   "source": [
    "#6\n",
    "data1=np.diag([1,1,1,1,1,])\n",
    "\n",
    "data1"
   ]
  },
  {
   "cell_type": "code",
   "execution_count": null,
   "id": "72f3487c-52cb-4c19-80d6-9029c3cebad4",
   "metadata": {},
   "outputs": [],
   "source": []
  }
 ],
 "metadata": {
  "kernelspec": {
   "display_name": "Python 3 (ipykernel)",
   "language": "python",
   "name": "python3"
  },
  "language_info": {
   "codemirror_mode": {
    "name": "ipython",
    "version": 3
   },
   "file_extension": ".py",
   "mimetype": "text/x-python",
   "name": "python",
   "nbconvert_exporter": "python",
   "pygments_lexer": "ipython3",
   "version": "3.10.8"
  }
 },
 "nbformat": 4,
 "nbformat_minor": 5
}
