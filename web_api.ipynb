{
 "cells": [
  {
   "cell_type": "code",
   "execution_count": 1,
   "id": "1475b2f5-c689-40cf-a531-76f30557a08a",
   "metadata": {},
   "outputs": [],
   "source": [
    "#1 API (Application Programming Interface): It's a set of defined rules and specifications that allow different software components to communicate and exchange data with each other.\n",
    "# It acts as a bridge or messenger, enabling systems to interact without needing to know each other's internal workings.\n",
    "\n",
    "#When you open a weather app on your phone, it likely fetches current weather data from a weather API. - Real life use"
   ]
  },
  {
   "cell_type": "code",
   "execution_count": 2,
   "id": "3ec218dc-aa1d-4a2a-b261-f352a2271492",
   "metadata": {},
   "outputs": [],
   "source": [
    "#2 Advantages: Integration, Data access , Innovation , Efficiency , maintainability \n",
    "#  Dis advantages: Dependency, security , complexity , cost , rate limits"
   ]
  },
  {
   "cell_type": "code",
   "execution_count": 3,
   "id": "2e541b70-f699-4a10-bec4-5ff519e722cf",
   "metadata": {},
   "outputs": [],
   "source": [
    "#3 A web API is designed specifically for web-based interactions, using HTTP protocols and technologies like REST and JSON to enable communication between web services and applications.\n",
    "\n",
    "# differences between web api and api are api have broader term, various protocols, diverse applications data type varies"
   ]
  },
  {
   "cell_type": "code",
   "execution_count": 4,
   "id": "3e08b470-876d-4ce5-83d5-d7e7b3db19c2",
   "metadata": {},
   "outputs": [],
   "source": [
    "#4  REST (Representational State Transfer): Lightweight and flexible: Uses existing HTTP protocol and methods (GET, POST, PUT, DELETE) for requests and responses.\n",
    "#                       Resource-oriented: Treats data as resources identified by URIs (Uniform Resource Identifiers).\n",
    "\n",
    "#SOAP (Simple Object Access Protocol): Strict and standardized: Requires adhering to specific XML-based message format and communication rules.\n",
    "#Operation-oriented: Focuses on exposing functionalities as operations rather than data as resources."
   ]
  },
  {
   "cell_type": "code",
   "execution_count": null,
   "id": "60d9efe0-9ee7-424d-9972-59ada9c45bf0",
   "metadata": {},
   "outputs": [],
   "source": [
    "#5 REST: Uses existing HTTP protocol (GET, POST, PUT, DELETE) for requests and responses.\n",
    "# Resource-oriented: defines data as resources accessible through URIs.\n",
    "#SOAP: Has its own protocol that uses XML messages and relies on SOAP intermediaries like web services gateways.\n",
    "# Operation-oriented; exposes functionalities as operations invoked through SOAP messages."
   ]
  }
 ],
 "metadata": {
  "kernelspec": {
   "display_name": "Python 3 (ipykernel)",
   "language": "python",
   "name": "python3"
  },
  "language_info": {
   "codemirror_mode": {
    "name": "ipython",
    "version": 3
   },
   "file_extension": ".py",
   "mimetype": "text/x-python",
   "name": "python",
   "nbconvert_exporter": "python",
   "pygments_lexer": "ipython3",
   "version": "3.10.8"
  }
 },
 "nbformat": 4,
 "nbformat_minor": 5
}
