{
 "cells": [
  {
   "cell_type": "code",
   "execution_count": 1,
   "id": "2b9974fb-0d9f-48b8-8bae-04aea4086e52",
   "metadata": {},
   "outputs": [],
   "source": [
    "#1\n",
    "#The Exception class is the base class for all built-in exceptions in Python, forming the root of the exception hierarchy.  so thats why we need to use the exception class "
   ]
  },
  {
   "cell_type": "code",
   "execution_count": 2,
   "id": "54aea64b-470b-4fca-a994-6405435c9ba0",
   "metadata": {},
   "outputs": [
    {
     "name": "stdout",
     "output_type": "stream",
     "text": [
      "this block will execute once try will execute itself without an exception\n",
      "I will execute always \n"
     ]
    }
   ],
   "source": [
    "#2\n",
    "\n",
    "try: \n",
    "    f = open(\"tost1.txt\" , \"w\")\n",
    "    f.write(\"this is my opening msg\")\n",
    "except Exception as e:\n",
    "        print(\" there is something wrong with my code \", e) \n",
    "else:\n",
    "    f.close()\n",
    "    print (\"this block will execute once try will execute itself without an exception\") \n",
    "    \n",
    "finally:\n",
    "    print(\"I will execute always \")"
   ]
  },
  {
   "cell_type": "code",
   "execution_count": 3,
   "id": "4e133f75-a023-4c94-917e-38bc70bd8f9c",
   "metadata": {},
   "outputs": [
    {
     "name": "stdout",
     "output_type": "stream",
     "text": [
      "Division successful. Result: 5.0\n"
     ]
    }
   ],
   "source": [
    "#3\n",
    "#some of the arthiimetic errors are zerodivision error and overflowerror\n",
    "\n",
    "#zerodivisionerror\n",
    "try:\n",
    "    result = 10 / 2\n",
    "except ZeroDivisionError:\n",
    "    print(\"Cannot divide by zero\")\n",
    "else:\n",
    "    print(\"Division successful. Result:\", result)"
   ]
  },
  {
   "cell_type": "code",
   "execution_count": 6,
   "id": "5b659ed3-3f9d-42b7-983b-18ad78551b8b",
   "metadata": {},
   "outputs": [
    {
     "name": "stdout",
     "output_type": "stream",
     "text": [
      "5! = 120\n"
     ]
    }
   ],
   "source": [
    "#3 \n",
    "\n",
    "#overflowerror\n",
    "\n",
    "def calculate_factorial(n):\n",
    "    try:\n",
    "        result = 1\n",
    "        for i in range(1, n + 1):\n",
    "            result *= i\n",
    "        print(f\"{n}! =\", result)\n",
    "    except OverflowError as e:\n",
    "        print(f\"Error: {e}\")\n",
    "\n",
    "calculate_factorial(5)    "
   ]
  },
  {
   "cell_type": "code",
   "execution_count": 7,
   "id": "c00c5979-444e-4c1d-9b4e-02b8bc1f17f3",
   "metadata": {},
   "outputs": [
    {
     "name": "stdout",
     "output_type": "stream",
     "text": [
      "The key 'city' is not found in the dictionary.\n",
      "The index is out of range for the list.\n"
     ]
    }
   ],
   "source": [
    "#4\n",
    "#Serves as a base class for exceptions that occur when a lookup operation fails in a mapping or sequence.\n",
    "\n",
    "#keyerror\n",
    "my_dict = {'name': 'Alice', 'age': 30}\n",
    "try:\n",
    "    print(my_dict['city'])  \n",
    "except KeyError:\n",
    "    print(\"The key 'city' is not found in the dictionary.\")\n",
    "\n",
    "#indexerror\n",
    "\n",
    "my_list = [10, 20, 30]\n",
    "try:\n",
    "    print(my_list[3]) \n",
    "except IndexError:\n",
    "    print(\"The index is out of range for the list.\")\n"
   ]
  },
  {
   "cell_type": "code",
   "execution_count": 8,
   "id": "e1caae14-e7c1-4a9e-ad0b-2fdd9e329a1b",
   "metadata": {},
   "outputs": [],
   "source": [
    "#5\n",
    "#Import Error indicates a problem with importing a module.\n",
    "#Modulenotfounderror  explicitly signals that the requested module cannot be found."
   ]
  },
  {
   "cell_type": "code",
   "execution_count": 9,
   "id": "b9862419-ec89-47b9-8a68-2d3312f651aa",
   "metadata": {},
   "outputs": [],
   "source": [
    "#6\n",
    "# use try else except\n",
    "#utilize finally block\n",
    "# use raise statement"
   ]
  },
  {
   "cell_type": "code",
   "execution_count": null,
   "id": "c54b958e-ecab-4932-beac-baba0b14ebff",
   "metadata": {},
   "outputs": [],
   "source": []
  }
 ],
 "metadata": {
  "kernelspec": {
   "display_name": "Python 3 (ipykernel)",
   "language": "python",
   "name": "python3"
  },
  "language_info": {
   "codemirror_mode": {
    "name": "ipython",
    "version": 3
   },
   "file_extension": ".py",
   "mimetype": "text/x-python",
   "name": "python",
   "nbconvert_exporter": "python",
   "pygments_lexer": "ipython3",
   "version": "3.10.8"
  }
 },
 "nbformat": 4,
 "nbformat_minor": 5
}
