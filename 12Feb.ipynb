{
 "cells": [
  {
   "cell_type": "code",
   "execution_count": 1,
   "id": "04a5c0f9-746a-4334-8271-5da1e91353e9",
   "metadata": {},
   "outputs": [],
   "source": [
    "#1\n",
    "\n",
    "# An exception is an event that occurs during the execution of a program that disrupts the normal flow of instructions.\n",
    "\n",
    "# A syntax error occurs when the Python interpreter encounters an error in the syntax (grammar) of the code. "
   ]
  },
  {
   "cell_type": "code",
   "execution_count": 15,
   "id": "ed268180-c194-40a8-88fc-febbf75864ff",
   "metadata": {},
   "outputs": [
    {
     "ename": "ZeroDivisionError",
     "evalue": "division by zero",
     "output_type": "error",
     "traceback": [
      "\u001b[0;31m---------------------------------------------------------------------------\u001b[0m",
      "\u001b[0;31mZeroDivisionError\u001b[0m                         Traceback (most recent call last)",
      "Cell \u001b[0;32mIn[15], line 17\u001b[0m\n\u001b[1;32m     14\u001b[0m         \u001b[38;5;28mprint\u001b[39m(\u001b[38;5;124m\"\u001b[39m\u001b[38;5;124mCaught a ValueError\u001b[39m\u001b[38;5;124m\"\u001b[39m)\n\u001b[1;32m     16\u001b[0m \u001b[38;5;28;01mif\u001b[39;00m \u001b[38;5;18m__name__\u001b[39m \u001b[38;5;241m==\u001b[39m \u001b[38;5;124m\"\u001b[39m\u001b[38;5;124m__main__\u001b[39m\u001b[38;5;124m\"\u001b[39m:\n\u001b[0;32m---> 17\u001b[0m     \u001b[43mmain\u001b[49m\u001b[43m(\u001b[49m\u001b[43m)\u001b[49m\n",
      "Cell \u001b[0;32mIn[15], line 11\u001b[0m, in \u001b[0;36mmain\u001b[0;34m()\u001b[0m\n\u001b[1;32m      9\u001b[0m \u001b[38;5;28;01mdef\u001b[39;00m \u001b[38;5;21mmain\u001b[39m():\n\u001b[1;32m     10\u001b[0m     \u001b[38;5;28;01mtry\u001b[39;00m:\n\u001b[0;32m---> 11\u001b[0m         result \u001b[38;5;241m=\u001b[39m \u001b[43mdivide_numbers\u001b[49m\u001b[43m(\u001b[49m\u001b[38;5;241;43m10\u001b[39;49m\u001b[43m,\u001b[49m\u001b[43m \u001b[49m\u001b[38;5;241;43m0\u001b[39;49m\u001b[43m)\u001b[49m \n\u001b[1;32m     12\u001b[0m         \u001b[38;5;28mprint\u001b[39m(\u001b[38;5;124m\"\u001b[39m\u001b[38;5;124mResult:\u001b[39m\u001b[38;5;124m\"\u001b[39m, result)\n\u001b[1;32m     13\u001b[0m     \u001b[38;5;28;01mexcept\u001b[39;00m \u001b[38;5;167;01mValueError\u001b[39;00m:\n",
      "Cell \u001b[0;32mIn[15], line 6\u001b[0m, in \u001b[0;36mdivide_numbers\u001b[0;34m(a, b)\u001b[0m\n\u001b[1;32m      5\u001b[0m \u001b[38;5;28;01mdef\u001b[39;00m \u001b[38;5;21mdivide_numbers\u001b[39m(a, b):\n\u001b[0;32m----> 6\u001b[0m     result \u001b[38;5;241m=\u001b[39m \u001b[43ma\u001b[49m\u001b[43m \u001b[49m\u001b[38;5;241;43m/\u001b[39;49m\u001b[43m \u001b[49m\u001b[43mb\u001b[49m\n\u001b[1;32m      7\u001b[0m     \u001b[38;5;28;01mreturn\u001b[39;00m result\n",
      "\u001b[0;31mZeroDivisionError\u001b[0m: division by zero"
     ]
    }
   ],
   "source": [
    "#2\n",
    "\n",
    "# When an exception is not handled in a program, it leads to what is known as an \"unhandled exception.\"\n",
    "\n",
    "def divide_numbers(a, b):\n",
    "    result = a / b\n",
    "    return result\n",
    "\n",
    "def main():\n",
    "    try:\n",
    "        result = divide_numbers(10, 0) \n",
    "        print(\"Result:\", result)\n",
    "    except ValueError:\n",
    "        print(\"Caught a ValueError\")\n",
    "\n",
    "if __name__ == \"__main__\":\n",
    "    main()\n"
   ]
  },
  {
   "cell_type": "code",
   "execution_count": 17,
   "id": "937488f4-68fe-4d05-b643-27ab6ec41049",
   "metadata": {},
   "outputs": [
    {
     "name": "stdout",
     "output_type": "stream",
     "text": [
      "Division successful. Result: 5.0\n",
      "This block always executes, regardless of exceptions.\n"
     ]
    }
   ],
   "source": [
    "#3\n",
    "\n",
    "#try,except,else,finally are the statements used to handle exceptions in the python \n",
    "\n",
    "try:\n",
    "    result = 10 / 2\n",
    "except ZeroDivisionError:\n",
    "    print(\"Cannot divide by zero\")\n",
    "else:\n",
    "    print(\"Division successful. Result:\", result)\n",
    "finally:\n",
    "    print(\"This block always executes, regardless of exceptions.\")\n"
   ]
  },
  {
   "cell_type": "code",
   "execution_count": 18,
   "id": "de016a41-d51b-4534-b926-b795b24b73e2",
   "metadata": {},
   "outputs": [
    {
     "name": "stdout",
     "output_type": "stream",
     "text": [
      "Division successful. Result: 5.0\n"
     ]
    }
   ],
   "source": [
    "#4 \n",
    "\n",
    "#a\n",
    "try:\n",
    "    result = 10 / 2\n",
    "except ZeroDivisionError:\n",
    "    print(\"Cannot divide by zero\")\n",
    "else:\n",
    "    print(\"Division successful. Result:\", result)\n",
    "    "
   ]
  },
  {
   "cell_type": "code",
   "execution_count": 20,
   "id": "f49ef567-bea8-4da9-a9df-7fc7b091e217",
   "metadata": {},
   "outputs": [
    {
     "name": "stdout",
     "output_type": "stream",
     "text": [
      "Division successful. Result: 3.3333333333333335\n",
      "This block always executes, regardless of exceptions.\n"
     ]
    }
   ],
   "source": [
    "#b \n",
    "try:\n",
    "    result = 10 / 3\n",
    "except ZeroDivisionError:\n",
    "    print(\"Cannot divide by zero\")\n",
    "else:\n",
    "    print(\"Division successful. Result:\", result)\n",
    "finally:\n",
    "    print(\"This block always executes, regardless of exceptions.\")"
   ]
  },
  {
   "cell_type": "code",
   "execution_count": 21,
   "id": "59535deb-4505-4297-8f1c-db6958de0989",
   "metadata": {},
   "outputs": [],
   "source": [
    "#C\n",
    "\n",
    "def check_positive_number(value):\n",
    "    if value <= 0:\n",
    "        raise ValueError(\"Value must be a positive number\")\n"
   ]
  },
  {
   "cell_type": "code",
   "execution_count": 23,
   "id": "5214fc2f-3759-4648-94ae-a922e190507c",
   "metadata": {},
   "outputs": [],
   "source": [
    "#5\n",
    "#custom exceptions are user-defined exceptions that you create to handle specific error conditions in your code. Example is given in 6 question"
   ]
  },
  {
   "cell_type": "code",
   "execution_count": null,
   "id": "f44a7e64-c399-448c-8890-d0588db6a1d5",
   "metadata": {},
   "outputs": [],
   "source": [
    "#6\n",
    "\n",
    "age = int(input(\"enter ypur age\"))\n",
    "\n",
    "class validate_age(Exception):\n",
    "    def __init__(self,msg):\n",
    "        self.msg= msg\n",
    "        \n",
    "def validate_age(age):\n",
    "    if age<0:\n",
    "        raise validate_age(\"Age shouldnt be negative\")\n",
    "    elif age<18:\n",
    "        raise validate_age (\"Age is not eligible\")\n",
    "    else:\n",
    "        print(\"age is eligible\")"
   ]
  },
  {
   "cell_type": "code",
   "execution_count": null,
   "id": "c0e71654-47fe-4b35-8322-5bfc01f65ec5",
   "metadata": {},
   "outputs": [],
   "source": []
  }
 ],
 "metadata": {
  "kernelspec": {
   "display_name": "Python 3 (ipykernel)",
   "language": "python",
   "name": "python3"
  },
  "language_info": {
   "codemirror_mode": {
    "name": "ipython",
    "version": 3
   },
   "file_extension": ".py",
   "mimetype": "text/x-python",
   "name": "python",
   "nbconvert_exporter": "python",
   "pygments_lexer": "ipython3",
   "version": "3.10.8"
  }
 },
 "nbformat": 4,
 "nbformat_minor": 5
}
