{
 "cells": [
  {
   "cell_type": "code",
   "execution_count": 2,
   "id": "f6ca5c2e-e288-4424-bcd7-8c64b8c33980",
   "metadata": {},
   "outputs": [],
   "source": [
    "#1 . A structured collection of data organized for efficient storage, retrieval, modification, and management."
   ]
  },
  {
   "cell_type": "code",
   "execution_count": 3,
   "id": "93500850-8ae2-4a17-848d-215c732dfa87",
   "metadata": {},
   "outputs": [],
   "source": [
    "#1\n",
    "#SQL Databases (Structured Query Language):\n",
    "\n",
    "#Relational databases that store data in structured tables with rows and columns.\n",
    "#Data is organized based on relationships between tables.\n",
    "\n",
    "#NoSQL Databases (Not Only SQL):\n",
    "\n",
    "#Non-relational databases that use flexible data models (e.g., documents, key-value pairs, graphs).\n",
    "#Offer more flexibility and scalability for handling unstructured or semi-structured data."
   ]
  },
  {
   "cell_type": "code",
   "execution_count": 4,
   "id": "1bdb29ea-f3b9-4e14-94d1-cb85c0fe136c",
   "metadata": {},
   "outputs": [],
   "source": [
    "#2 \n",
    "#DDL (Data Definition Language) is a subset of SQL (Structured Query Language) that's used to define and manage the structure of database objects like tables, indexes, views, and constraints.\n",
    "#CREATE: Purpose: To create new database objects. CREATE TABLE Customers (CustomerID int, Name varchar(50), Email varchar(100));\n",
    "#DROP:Purpose: To delete existing database objects.Example: DROP TABLE Customers;\n",
    "#ALTER:Purpose: To modify the structure of existing database objects.Examples:ALTER TABLE Customers ADD Phone varchar(20);\n",
    "#TRUNCATE:Purpose: To quickly delete all data from a table, but not the table itself. Example: TRUNCATE TABLE Customers;"
   ]
  },
  {
   "cell_type": "code",
   "execution_count": 5,
   "id": "9cc49251-b3eb-463a-9fbe-e648374cbe32",
   "metadata": {},
   "outputs": [
    {
     "ename": "SyntaxError",
     "evalue": "invalid syntax (1522178107.py, line 5)",
     "output_type": "error",
     "traceback": [
      "\u001b[0;36m  Cell \u001b[0;32mIn[5], line 5\u001b[0;36m\u001b[0m\n\u001b[0;31m    INSERT INTO employee (name, department, salary)\u001b[0m\n\u001b[0m           ^\u001b[0m\n\u001b[0;31mSyntaxError\u001b[0m\u001b[0;31m:\u001b[0m invalid syntax\n"
     ]
    }
   ],
   "source": [
    "#3 DML stands for Data Manipulation Language. It deals with data manipulation and includes the most common SQL statements such as SELECT, INSERT, UPDATE, DELETE, etc\n",
    "\n",
    "#INSERT: The INSERT INTO statement is used to insert new records in a table\n",
    "\n",
    "INSERT INTO employee (name, department, salary)\n",
    "VALUES ('John Doe', 'Sales', 5000);\n",
    "\n",
    "#UPDATE: The UPDATE statement is used to modify the existing records in a table\n",
    "\n",
    "UPDATE employee \n",
    "SET salary = 6000 \n",
    "WHERE name = 'John Doe';\n",
    "\n",
    "#DELETE: The DELETE statement is used to delete existing records in a table\n",
    "\n",
    "DELETE FROM employee \n",
    "WHERE name = 'John Doe';\n"
   ]
  },
  {
   "cell_type": "code",
   "execution_count": 6,
   "id": "07c6e489-9020-47b3-9adc-717173c6e163",
   "metadata": {},
   "outputs": [
    {
     "ename": "SyntaxError",
     "evalue": "invalid syntax (3743048220.py, line 3)",
     "output_type": "error",
     "traceback": [
      "\u001b[0;36m  Cell \u001b[0;32mIn[6], line 3\u001b[0;36m\u001b[0m\n\u001b[0;31m    SELECT Name, Email\u001b[0m\n\u001b[0m           ^\u001b[0m\n\u001b[0;31mSyntaxError\u001b[0m\u001b[0;31m:\u001b[0m invalid syntax\n"
     ]
    }
   ],
   "source": [
    "#4 DQL (Data Query Language) is a subset of SQL (Structured Query Language) specifically used to retrieve and manipulate data from a database. It's the most commonly used part of SQL for everyday database interactions.\n",
    "\n",
    "SELECT Name, Email\n",
    "FROM Customers\n",
    "WHERE City = 'New York';\n"
   ]
  },
  {
   "cell_type": "code",
   "execution_count": 7,
   "id": "44d51b99-2560-4c86-8960-33b99c75a552",
   "metadata": {},
   "outputs": [],
   "source": [
    "#5 Primary Key:Unique identifier: A column (or a set of columns) that uniquely identifies each row in a table.\n",
    "               #No duplicates: Ensures that no two rows can have the same primary key value.\n",
    "#               Not null: Primary key values cannot be NULL (empty).\n",
    "#Foreign Key: Establishes relationships: A column (or a set of columns) in one table that references the primary key of another table.\n",
    "#             Creates links: Connects data between related tables, forming relational database structures.\n",
    "#             Enforces referential integrity: Ensures that data in related tables remains consistent and avoids orphaned records."
   ]
  },
  {
   "cell_type": "code",
   "execution_count": 8,
   "id": "08b63eaa-27bf-477f-b031-c34bbbe1238a",
   "metadata": {},
   "outputs": [
    {
     "ename": "ModuleNotFoundError",
     "evalue": "No module named 'mysql'",
     "output_type": "error",
     "traceback": [
      "\u001b[0;31m---------------------------------------------------------------------------\u001b[0m",
      "\u001b[0;31mModuleNotFoundError\u001b[0m                       Traceback (most recent call last)",
      "Cell \u001b[0;32mIn[8], line 2\u001b[0m\n\u001b[1;32m      1\u001b[0m \u001b[38;5;66;03m#6 \u001b[39;00m\n\u001b[0;32m----> 2\u001b[0m \u001b[38;5;28;01mimport\u001b[39;00m \u001b[38;5;21;01mmysql\u001b[39;00m\u001b[38;5;21;01m.\u001b[39;00m\u001b[38;5;21;01mconnector\u001b[39;00m\n\u001b[1;32m      3\u001b[0m mydb \u001b[38;5;241m=\u001b[39m mysql\u001b[38;5;241m.\u001b[39mconnector\u001b[38;5;241m.\u001b[39mconnect(\n\u001b[1;32m      4\u001b[0m   host\u001b[38;5;241m=\u001b[39m\u001b[38;5;124m\"\u001b[39m\u001b[38;5;124mlocalhost\u001b[39m\u001b[38;5;124m\"\u001b[39m,\n\u001b[1;32m      5\u001b[0m   user\u001b[38;5;241m=\u001b[39m\u001b[38;5;124m\"\u001b[39m\u001b[38;5;124mabc\u001b[39m\u001b[38;5;124m\"\u001b[39m,\n\u001b[1;32m      6\u001b[0m   password\u001b[38;5;241m=\u001b[39m\u001b[38;5;124m\"\u001b[39m\u001b[38;5;124mpassword\u001b[39m\u001b[38;5;124m\"\u001b[39m\n\u001b[1;32m      7\u001b[0m )\n\u001b[1;32m      8\u001b[0m mycursor \u001b[38;5;241m=\u001b[39m mydb\u001b[38;5;241m.\u001b[39mcursor()\n",
      "\u001b[0;31mModuleNotFoundError\u001b[0m: No module named 'mysql'"
     ]
    }
   ],
   "source": [
    "#6 \n",
    "import mysql.connector\n",
    "mydb = mysql.connector.connect(\n",
    "  host=\"localhost\",\n",
    "  user=\"abc\",\n",
    "  password=\"password\"\n",
    ")\n",
    "mycursor = mydb.cursor()\n",
    "mycursor.execute(\"SHOW DATABASES\")\n",
    "mycursor = mydb.cursor()\n",
    "mycursor.execute(\"CREATE DATABASE if not exists test1\")\n",
    "mycursor.execute(\"CREATE TABLE if not exists test1._table1(c1 INT, c2 VARCHAR(50), c3 FLOAT, c4 INT, c5 VARCHAR(40))\")\n",
    "mydb.close()"
   ]
  },
  {
   "cell_type": "code",
   "execution_count": null,
   "id": "f94e0477-d3ae-492c-8c50-010226d7722d",
   "metadata": {},
   "outputs": [],
   "source": [
    "#7 order is 1.FROM 2.WHERE 3.GROUP BY 4.HAVING 5.SELECT 6.DIST"
   ]
  }
 ],
 "metadata": {
  "kernelspec": {
   "display_name": "Python 3 (ipykernel)",
   "language": "python",
   "name": "python3"
  },
  "language_info": {
   "codemirror_mode": {
    "name": "ipython",
    "version": 3
   },
   "file_extension": ".py",
   "mimetype": "text/x-python",
   "name": "python",
   "nbconvert_exporter": "python",
   "pygments_lexer": "ipython3",
   "version": "3.10.8"
  }
 },
 "nbformat": 4,
 "nbformat_minor": 5
}
