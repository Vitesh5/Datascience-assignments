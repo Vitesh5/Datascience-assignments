{
 "cells": [
  {
   "cell_type": "code",
   "execution_count": 7,
   "id": "f2a47d61-df56-496f-8a4b-8a3ca57d0ece",
   "metadata": {},
   "outputs": [
    {
     "data": {
      "text/plain": [
       "[1, 3, 5, 7, 9, 11, 13, 15, 17, 19, 21, 23, 25]"
      ]
     },
     "execution_count": 7,
     "metadata": {},
     "output_type": "execute_result"
    }
   ],
   "source": [
    "#1\n",
    "#def is the key word to create a function\n",
    "\n",
    "def lst(a):\n",
    "    return[i for i in a if i%2 != 0]\n",
    "\n",
    "l=range(1,26)\n",
    "\n",
    "lst(l)"
   ]
  },
  {
   "cell_type": "code",
   "execution_count": 8,
   "id": "678c1768-d76c-4d27-8576-b4436c5e9fdf",
   "metadata": {},
   "outputs": [
    {
     "data": {
      "text/plain": [
       "(1, 45, 67, 2389079, 21334, 'sudh', [1, 2, 3, 4, 7899])"
      ]
     },
     "execution_count": 8,
     "metadata": {},
     "output_type": "execute_result"
    }
   ],
   "source": [
    "#2 \n",
    "\"\"\" *args is used when you want to write any number of  arguments regardless of the length of argument\n",
    "**kwargs is used for setting keys and values in a dictionary\"\"\"\n",
    "\n",
    "def sum1(*args):\n",
    "    return args\n",
    "\n",
    "sum1(1,45,67,2389079,21334,\"sudh\",[1,2,3,4,7899])\n"
   ]
  },
  {
   "cell_type": "code",
   "execution_count": 9,
   "id": "4aaaeeed-ec95-4ddf-b16d-d14851f1af27",
   "metadata": {},
   "outputs": [
    {
     "data": {
      "text/plain": [
       "{'a': 254, 'b': [1, 2, 4, 5, 6], 'c': 24.5, 'd': 5676}"
      ]
     },
     "execution_count": 9,
     "metadata": {},
     "output_type": "execute_result"
    }
   ],
   "source": [
    "def dic(**kwargs):\n",
    "    return kwargs \n",
    "dic(a=254,b=[1,2,4,5,6],c=24.5,d=5676)\n",
    "    "
   ]
  },
  {
   "cell_type": "code",
   "execution_count": 10,
   "id": "76ef547a-d47b-430f-9fbc-3a2710c69bc4",
   "metadata": {},
   "outputs": [
    {
     "name": "stdout",
     "output_type": "stream",
     "text": [
      "2\n",
      "4\n",
      "6\n",
      "8\n",
      "10\n"
     ]
    }
   ],
   "source": [
    "#3 An iterator in Python is an object that represents a stream of data, and it allows you to iterate (loop) through its elements one at a time. \n",
    "#the iter() method, and for iteration, you use the next() method. \n",
    "\n",
    "list1=[2, 4, 6, 8, 10, 12, 14, 16,18,20]\n",
    "\n",
    "iter1=iter(list1)\n",
    "for i in range(5):\n",
    "    print(next(iter1))"
   ]
  },
  {
   "cell_type": "code",
   "execution_count": 11,
   "id": "0d0c4338-cbf5-4730-b9d9-8f770fd76b8c",
   "metadata": {},
   "outputs": [],
   "source": [
    "#4 A generator function in Python is a function that allows you to create an iterator without constructing the entire sequence in memory.\n",
    "#The yield keyword is used to yield values one at a time as they are requested.\n",
    "\n",
    "def test_fib(n):\n",
    "    a,b=0,1\n",
    "    for i in  range(n):\n",
    "        yield a \n",
    "        a,b=b,a+b"
   ]
  },
  {
   "cell_type": "code",
   "execution_count": 5,
   "id": "257e8067-5bb1-4386-a0e8-351980444f38",
   "metadata": {},
   "outputs": [
    {
     "name": "stdout",
     "output_type": "stream",
     "text": [
      "2\n",
      "3\n",
      "5\n",
      "7\n",
      "11\n",
      "13\n",
      "17\n",
      "19\n",
      "23\n",
      "29\n",
      "31\n",
      "37\n",
      "41\n",
      "43\n",
      "47\n",
      "53\n",
      "59\n",
      "61\n",
      "67\n",
      "71\n"
     ]
    }
   ],
   "source": [
    "#5\n",
    "\n",
    "def prime_generator():\n",
    "    n = 1\n",
    "    while n < 1000: \n",
    "        n += 1\n",
    "        if is_prime(n): \n",
    "            yield n \n",
    "\n",
    "def is_prime(n):\n",
    "    if n <= 1: \n",
    "        return False\n",
    "    for i in range(2, int(n**0.5) + 1): \n",
    "        if n % i == 0: \n",
    "            return False \n",
    "    return True \n",
    "prime=prime_generator()\n",
    "\n",
    "for i in range(20):\n",
    "    print(next(prime))"
   ]
  },
  {
   "cell_type": "code",
   "execution_count": null,
   "id": "814631a7-d4cf-49fb-9594-d5a69416a452",
   "metadata": {},
   "outputs": [],
   "source": []
  }
 ],
 "metadata": {
  "kernelspec": {
   "display_name": "Python 3 (ipykernel)",
   "language": "python",
   "name": "python3"
  },
  "language_info": {
   "codemirror_mode": {
    "name": "ipython",
    "version": 3
   },
   "file_extension": ".py",
   "mimetype": "text/x-python",
   "name": "python",
   "nbconvert_exporter": "python",
   "pygments_lexer": "ipython3",
   "version": "3.10.8"
  }
 },
 "nbformat": 4,
 "nbformat_minor": 5
}
