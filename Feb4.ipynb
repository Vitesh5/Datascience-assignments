{
 "cells": [
  {
   "cell_type": "code",
   "execution_count": 1,
   "id": "1b62cb4b-ddd4-4600-b614-d6a076f9768a",
   "metadata": {},
   "outputs": [],
   "source": [
    "l= [('Sachin Tendulkar', 34357), ('Ricky Ponting', 27483), ('Jack Kallis', 25534), ('Virat Kohli', 24936)]"
   ]
  },
  {
   "cell_type": "code",
   "execution_count": 10,
   "id": "d4cd897e-a5d1-4396-8bdb-d57208f215bc",
   "metadata": {},
   "outputs": [],
   "source": [
    "sorted_list=sorted(l, key=lambda x:x[1])"
   ]
  },
  {
   "cell_type": "code",
   "execution_count": 14,
   "id": "a422dfd1-cd52-4a75-90f1-f9c199712840",
   "metadata": {},
   "outputs": [
    {
     "name": "stdout",
     "output_type": "stream",
     "text": [
      "('Sachin Tendulkar', 34357)\n",
      "('Ricky Ponting', 27483)\n",
      "('Jack Kallis', 25534)\n",
      "('Virat Kohli', 24936)\n"
     ]
    }
   ],
   "source": [
    "for item in l:\n",
    "    print(item)"
   ]
  },
  {
   "cell_type": "code",
   "execution_count": 17,
   "id": "5a53fb65-49f6-4026-a8d8-7e85edaf3b60",
   "metadata": {},
   "outputs": [],
   "source": [
    "sort=map(lambda x:x[1],l)"
   ]
  },
  {
   "cell_type": "code",
   "execution_count": 19,
   "id": "fd3f49e8-898f-4849-b857-662ec1811716",
   "metadata": {},
   "outputs": [
    {
     "data": {
      "text/plain": [
       "[34357, 27483, 25534, 24936]"
      ]
     },
     "execution_count": 19,
     "metadata": {},
     "output_type": "execute_result"
    }
   ],
   "source": [
    "list(sort)"
   ]
  },
  {
   "cell_type": "code",
   "execution_count": 1,
   "id": "b07da94d-c5da-4874-91a3-a5665968ea4d",
   "metadata": {},
   "outputs": [],
   "source": [
    "#2\n",
    "l2 = [1, 2, 3, 4, 5, 6, 7, 8, 9, 10]\n"
   ]
  },
  {
   "cell_type": "code",
   "execution_count": 21,
   "id": "85103856-422b-4b60-9c74-62ed9e32c5c0",
   "metadata": {},
   "outputs": [
    {
     "data": {
      "text/plain": [
       "[1, 4, 9, 16, 25, 36, 49, 64, 81, 100]"
      ]
     },
     "execution_count": 21,
     "metadata": {},
     "output_type": "execute_result"
    }
   ],
   "source": [
    "list(map(lambda x:x**2,l2))"
   ]
  },
  {
   "cell_type": "code",
   "execution_count": 22,
   "id": "1d702286-a3ed-4d05-b7db-0406abe2bcce",
   "metadata": {},
   "outputs": [
    {
     "data": {
      "text/plain": [
       "['1', '2', '3', '4', '5', '6', '7', '8', '9', '10']"
      ]
     },
     "execution_count": 22,
     "metadata": {},
     "output_type": "execute_result"
    }
   ],
   "source": [
    "#3 \n",
    "list(map(lambda x:str(x),l2))"
   ]
  },
  {
   "cell_type": "code",
   "execution_count": 49,
   "id": "63b35e9f-cdd5-403a-a06d-43a77c499360",
   "metadata": {},
   "outputs": [],
   "source": [
    " #4\n",
    "l4= range(1,26)"
   ]
  },
  {
   "cell_type": "code",
   "execution_count": 32,
   "id": "7884c4b6-6f79-4fb7-8eaa-6c9108c100b7",
   "metadata": {},
   "outputs": [],
   "source": [
    "from functools import reduce"
   ]
  },
  {
   "cell_type": "code",
   "execution_count": 33,
   "id": "fa407851-d90f-4b5a-9347-58645e378097",
   "metadata": {},
   "outputs": [
    {
     "data": {
      "text/plain": [
       "15511210043330985984000000"
      ]
     },
     "execution_count": 33,
     "metadata": {},
     "output_type": "execute_result"
    }
   ],
   "source": [
    "reduce(lambda x,y:x*y ,l4)"
   ]
  },
  {
   "cell_type": "code",
   "execution_count": 43,
   "id": "b5a8db84-8eff-4519-beeb-d8d6d471ee31",
   "metadata": {},
   "outputs": [],
   "source": [
    "#5\n",
    "l5 = [2, 3, 6, 9, 27, 60, 90, 120, 55, 46]"
   ]
  },
  {
   "cell_type": "code",
   "execution_count": 44,
   "id": "d0fd4856-13e1-4e6d-b4cf-ca08f487c683",
   "metadata": {},
   "outputs": [
    {
     "data": {
      "text/plain": [
       "[2, 6, 60, 90, 120, 46]"
      ]
     },
     "execution_count": 44,
     "metadata": {},
     "output_type": "execute_result"
    }
   ],
   "source": [
    "list(filter(lambda x: x%2==0,l5))"
   ]
  },
  {
   "cell_type": "code",
   "execution_count": 45,
   "id": "57e799a3-7b2a-465d-8236-651bb663a3ef",
   "metadata": {},
   "outputs": [
    {
     "data": {
      "text/plain": [
       "[3, 6, 9, 27, 60, 90, 120]"
      ]
     },
     "execution_count": 45,
     "metadata": {},
     "output_type": "execute_result"
    }
   ],
   "source": [
    "list(filter(lambda x: x%3==0,l5))"
   ]
  },
  {
   "cell_type": "code",
   "execution_count": 46,
   "id": "1229b472-205f-49ab-9362-8eb54f9df03a",
   "metadata": {},
   "outputs": [],
   "source": [
    "#6\n",
    "l6 =['python', 'php', 'aba', 'radar', 'level']"
   ]
  },
  {
   "cell_type": "code",
   "execution_count": 47,
   "id": "f21695e1-e8a5-4178-8917-55266bebd3d0",
   "metadata": {},
   "outputs": [
    {
     "data": {
      "text/plain": [
       "['php', 'aba', 'radar', 'level']"
      ]
     },
     "execution_count": 47,
     "metadata": {},
     "output_type": "execute_result"
    }
   ],
   "source": [
    "list(filter(lambda x:x == x[::-1],l6))"
   ]
  },
  {
   "cell_type": "code",
   "execution_count": null,
   "id": "fc9a179b-6933-4f89-8530-cd0b1018396f",
   "metadata": {},
   "outputs": [],
   "source": []
  }
 ],
 "metadata": {
  "kernelspec": {
   "display_name": "Python 3 (ipykernel)",
   "language": "python",
   "name": "python3"
  },
  "language_info": {
   "codemirror_mode": {
    "name": "ipython",
    "version": 3
   },
   "file_extension": ".py",
   "mimetype": "text/x-python",
   "name": "python",
   "nbconvert_exporter": "python",
   "pygments_lexer": "ipython3",
   "version": "3.10.8"
  }
 },
 "nbformat": 4,
 "nbformat_minor": 5
}
