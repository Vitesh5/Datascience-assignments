{
 "cells": [
  {
   "cell_type": "code",
   "execution_count": 2,
   "id": "9e146bfc-c263-4ad5-8c38-f94ffacd560a",
   "metadata": {},
   "outputs": [],
   "source": [
    "#1 class is a template for creating an objects where as objects are an instance of a class.\n",
    "\n",
    "class student_details:\n",
    "    def __init__(self,name,age,gender):\n",
    "        self.name= \"vitesh\"\n",
    "        self.age= \"19\"\n",
    "        self.gender = \"Male\"\n",
    "        \n"
   ]
  },
  {
   "cell_type": "code",
   "execution_count": 5,
   "id": "6c1ddd16-2597-4e0c-b77d-58d8c26a702b",
   "metadata": {},
   "outputs": [],
   "source": [
    "sf1 = student_details(\"ramesh\",\"15\",\"male\")"
   ]
  },
  {
   "cell_type": "code",
   "execution_count": 6,
   "id": "a6c907e1-4bd3-4c00-bf84-3c1eac5d0481",
   "metadata": {},
   "outputs": [
    {
     "data": {
      "text/plain": [
       "'19'"
      ]
     },
     "execution_count": 12,
     "metadata": {},
     "output_type": "execute_result"
    }
   ],
   "source": [
    "sf1.age"
   ]
  },
  {
   "cell_type": "code",
   "execution_count": 7,
   "id": "9fc09939-7819-4061-8271-236d2fd58e99",
   "metadata": {},
   "outputs": [],
   "source": [
    "# In the above exampl the name age gender are the attrivbutes of the class then we create our own values wiuth same attributes using objects"
   ]
  },
  {
   "cell_type": "code",
   "execution_count": 8,
   "id": "d340db24-736c-4f72-b6ac-8b365b3d55ae",
   "metadata": {},
   "outputs": [],
   "source": [
    "#2 The four pillars of OOP's are 1.Inheritence 2.Abstraction 3.Encapsulation 4.Polymorphism"
   ]
  },
  {
   "cell_type": "code",
   "execution_count": 13,
   "id": "8215e8e8-638a-4f56-972f-4158b8672792",
   "metadata": {},
   "outputs": [],
   "source": [
    "#3  __init__ is used to initialize the attributes or properties of an object when it is created from a class. \n",
    "\n",
    "class student_details:\n",
    "    def __init__(self,name,age,gender):\n",
    "        self.name= \"vitesh\"\n",
    "        self.age= \"19\"\n",
    "        self.gender = \"Male\"\n",
    "        \n",
    "        "
   ]
  },
  {
   "cell_type": "code",
   "execution_count": 14,
   "id": "d6edc9d3-a71b-4ac0-bc34-c116c37d406e",
   "metadata": {},
   "outputs": [],
   "source": [
    "#4 Self represents the instance of the class. By using the “self” we can access the attributes and methods of the class."
   ]
  },
  {
   "cell_type": "code",
   "execution_count": 15,
   "id": "0e12d681-2b5a-444f-99da-b30cf0bd29d8",
   "metadata": {},
   "outputs": [
    {
     "name": "stdout",
     "output_type": "stream",
     "text": [
      "Woof!\n",
      "Screech!\n",
      "Woof!\n"
     ]
    }
   ],
   "source": [
    "#5 Inheritance allows you to create a new class  by inheriting the properties and attributes and methods of an existing class.\n",
    "# Types of Inheritance: 1. Single Inheritence 2. Multiple Inheritence 3.Multi level Inheritence \n",
    "\n",
    "#ex 1\n",
    "class Animal:\n",
    "    def speak(self):\n",
    "        pass\n",
    "\n",
    "class Dog(Animal):\n",
    "    def speak(self):\n",
    "        return \"Woof!\"\n",
    "\n",
    "dog = Dog()\n",
    "print(dog.speak())  \n",
    "#ex 2 \n",
    "class Bird:\n",
    "    def speak(self):\n",
    "        pass\n",
    "\n",
    "class Mammal:\n",
    "    def speak(self):\n",
    "        pass\n",
    "\n",
    "class Bat(Bird, Mammal):\n",
    "    def speak(self):\n",
    "        return \"Screech!\"\n",
    "\n",
    "bat = Bat()\n",
    "print(bat.speak()) \n",
    "# ex 3\n",
    "class Animal:\n",
    "    def speak(self):\n",
    "        pass\n",
    "\n",
    "class Dog(Animal):\n",
    "    def speak(self):\n",
    "        return \"Woof!\"\n",
    "\n",
    "class Bulldog(Dog):\n",
    "    pass\n",
    "\n",
    "bulldog = Bulldog()\n",
    "print(bulldog.speak())  \n",
    "\n",
    "\n"
   ]
  },
  {
   "cell_type": "code",
   "execution_count": null,
   "id": "4359bac7-30e3-4845-ae89-0ba220326f9a",
   "metadata": {},
   "outputs": [],
   "source": []
  }
 ],
 "metadata": {
  "kernelspec": {
   "display_name": "Python 3 (ipykernel)",
   "language": "python",
   "name": "python3"
  },
  "language_info": {
   "codemirror_mode": {
    "name": "ipython",
    "version": 3
   },
   "file_extension": ".py",
   "mimetype": "text/x-python",
   "name": "python",
   "nbconvert_exporter": "python",
   "pygments_lexer": "ipython3",
   "version": "3.10.8"
  }
 },
 "nbformat": 4,
 "nbformat_minor": 5
}
