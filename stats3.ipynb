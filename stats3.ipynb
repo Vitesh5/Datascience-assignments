{
 "cells": [
  {
   "cell_type": "markdown",
   "id": "42a2709a-4115-43fb-ab08-2c7f8e36c050",
   "metadata": {},
   "source": [
    "1.\n",
    "\n",
    "\n",
    "The Probability Density Function (PDF) is a function that describes the likelihood of a continuous random variable taking on a specific value or falling within a range of values. In other words, it provides the probability distribution of a continuous random variable across its entire range.\n",
    "\n",
    "Key characteristics of the Probability Density Function (PDF) include:\n",
    "\n",
    "Continuous Random Variables: The PDF applies to continuous random variables, as opposed to discrete random variables which have a Probability Mass Function (PMF).\n",
    "\n",
    "Non-negative Values: The PDF is non-negative for all possible values of the random variable. This means that the probability assigned to any particular value or range of values is always greater than or equal to zero."
   ]
  },
  {
   "cell_type": "markdown",
   "id": "4cd9bb64-b985-49a4-99d9-85841a6038aa",
   "metadata": {},
   "source": [
    "2.\n",
    "There are several types of probability distributions, each with its own characteristics and applications. Some of the common types of probability distributions include:\n",
    "\n",
    "Discrete Probability Distributions:\n",
    "\n",
    "Bernoulli Distribution: Models the probability of success (1) or failure (0) in a single trial.\n",
    "Binomial Distribution: Describes the number of successes in a fixed number of independent Bernoulli trials.\n",
    "Poisson Distribution: Represents the number of events occurring in a fixed interval of time or space when events occur with a known constant rate and independently of the time since the last event.\n",
    "Continuous Probability Distributions:\n",
    "\n",
    "Normal Distribution: Also known as the Gaussian distribution, it is characterized by a bell-shaped curve and is commonly used to model natural phenomena due to the Central Limit Theorem.\n",
    "Uniform Distribution: All outcomes have an equal probability of occurring within a specified range.\n",
    "Exponential Distribution: Models the time between events in a Poisson process, where events occur continuously and independently at a constant average rate.\n"
   ]
  },
  {
   "cell_type": "code",
   "execution_count": 5,
   "id": "67677032-e181-4241-b1bc-f8d2ebfec8a8",
   "metadata": {},
   "outputs": [
    {
     "name": "stdout",
     "output_type": "stream",
     "text": [
      "PDF at x = 1 : 0.24197072451914337\n"
     ]
    }
   ],
   "source": [
    "3\n",
    "\n",
    "from scipy.stats import norm\n",
    "\n",
    "def normal_pdf(x, mean, std_dev):\n",
    "\n",
    "    pdf_value = norm.pdf(x, loc=mean, scale=std_dev)\n",
    "    return pdf_value\n",
    "\n",
    "# Example usage:\n",
    "mean = 0  # Mean of the normal distribution\n",
    "std_dev = 1  # Standard deviation of the normal distribution\n",
    "x = 1  # Point at which to evaluate the PDF\n",
    "pdf_at_x = normal_pdf(x, mean, std_dev)\n",
    "print(\"PDF at x =\", x, \":\", pdf_at_x)\n"
   ]
  },
  {
   "cell_type": "markdown",
   "id": "3ef25f89-95c0-41b8-8560-c8e3d214c130",
   "metadata": {},
   "source": [
    "4\n",
    "\n",
    "The Binomial distribution is a discrete probability distribution that describes the number of successes in a fixed number of independent Bernoulli trials, where each trial has two possible outcomes (success or failure) and the probability of success is constant across all trials. The properties of the Binomial distribution include:\n",
    "\n",
    "Fixed Number of Trials: The number of trials, denoted as n, is fixed and known in advance.\n",
    "Two Possible Outcomes: Each trial has two possible outcomes, often labeled as success (usually denoted as 1) and failure (usually denoted as 0).\n",
    "Independent Trials: The trials are independent of each other, meaning the outcome of one trial does not affect the outcome of another trial.\n",
    "Constant Probability of Success: The probability of success, denoted as p, is the same for each trial.\n",
    "Discrete Probability Distribution: The Binomial distribution is discrete, meaning it describes the probability of obtaining each possible number of successes in the fixed number of trials.\n",
    "Examples of events where the Binomial distribution can be applied include:\n",
    "\n",
    "Coin Flipping: Suppose you flip a fair coin 10 times. Each flip represents a Bernoulli trial, with the probability of getting heads (success) equal to 0.5 and the probability of getting tails (failure) also equal to 0.5. The number of heads obtained in 10 coin flips follows a Binomial distribution.\n",
    "Quality Control: A manufacturing process produces items that are either defective or non-defective. Suppose you randomly select 20 items from the production line and classify each item as defective or non-defective. The number of defective items out of the 20 selected items follows a Binomial distribution, with the probability of an item being defective determined by the quality of the manufacturing process."
   ]
  },
  {
   "cell_type": "code",
   "execution_count": 10,
   "id": "cda7eb95-b8eb-42dc-8347-90e1dbad57d5",
   "metadata": {},
   "outputs": [
    {
     "data": {
      "image/png": "[encoded data removed]",
      "text/plain": [
       "<Figure size 640x480 with 1 Axes>"
      ]
     },
     "metadata": {},
     "output_type": "display_data"
    }
   ],
   "source": [
    "5\n",
    "\n",
    "\n",
    "import matplotlib.pyplot as plt\n",
    "import numpy as np\n",
    "from scipy.stats import binom\n",
    "\n",
    "# Set the parameters for the binomial distribution\n",
    "n = 10  # number of trials\n",
    "p = 0.4  # probability of success\n",
    "\n",
    "# Generate a random sample of size 1000 from the binomial distribution\n",
    "sample = binom.rvs(n, p, size=1000)\n",
    "\n",
    "# Plot a histogram of the sample\n",
    "plt.hist(sample, bins=np.arange(n+2)-0.5, align='mid', rwidth=0.8)\n",
    "plt.xlabel('Number of successes')\n",
    "plt.ylabel('Frequency')\n",
    "plt.title('Histogram of a Binomial Distribution with n=%d and p=%.2f' % (n, p))\n",
    "plt.show()"
   ]
  },
  {
   "cell_type": "code",
   "execution_count": 11,
   "id": "9d8587a5-b86d-4504-a385-846864edd01a",
   "metadata": {},
   "outputs": [
    {
     "name": "stdout",
     "output_type": "stream",
     "text": [
      "CDF at k = 3 : 0.857123460498547\n"
     ]
    }
   ],
   "source": [
    "6\n",
    "\n",
    "from scipy.stats import poisson\n",
    "\n",
    "def poisson_cdf(k, mu):\n",
    "\n",
    "    cdf_value = poisson.cdf(k, mu)\n",
    "    return cdf_value\n",
    "\n",
    "# Example usage:\n",
    "mu = 2  # Mean of the Poisson distribution\n",
    "k = 3   # Point at which to evaluate the CDF\n",
    "cdf_at_k = poisson_cdf(k, mu)\n",
    "print(\"CDF at k =\", k, \":\", cdf_at_k)\n"
   ]
  },
  {
   "cell_type": "markdown",
   "id": "d7b6a60e-8e7e-45cf-911e-cb26c072ecdf",
   "metadata": {},
   "source": [
    "7\n",
    "\n",
    "\n",
    "Shape of Distribution:\n",
    "\n",
    "Binomial Distribution: The Binomial distribution is discrete and typically symmetric, with a peak at or around the mean.\n",
    "Poisson Distribution: The Poisson distribution is also discrete but often skewed to the right, especially when the average rate of occurrence is low.\n",
    "\n",
    "Number of Trials:\n",
    "\n",
    "Binomial Distribution: The number of trials, denoted asn, is fixed and known in advance.\n",
    "Poisson Distribution: There is no fixed number of trials. The Poisson distribution applies in situations where the number of trials is very large or unknown, and the average rate of occurrence of events is relatively low.\n",
    "\n",
    "Nature of Events:\n",
    "\n",
    "Binomial Distribution: The Binomial distribution describes the number of successes in a fixed number of independent Bernoulli trials, where each trial has two possible outcomes (success or failure) and the probability of success is constant across all trials.\n",
    "Poisson Distribution: The Poisson distribution models the number of events occurring in a fixed interval of time or space, given a known average rate of occurrence and assuming events occur independently of each other."
   ]
  },
  {
   "cell_type": "code",
   "execution_count": 12,
   "id": "01104fc3-de60-4f3e-8a6d-b30d22178711",
   "metadata": {},
   "outputs": [
    {
     "name": "stdout",
     "output_type": "stream",
     "text": [
      "Sample Mean: 4.989\n",
      "Sample Variance: 5.030878999999999\n"
     ]
    }
   ],
   "source": [
    "8\n",
    "\n",
    "import numpy as np\n",
    "\n",
    "# Parameters for the Poisson distribution\n",
    "mean = 5  # Mean of the Poisson distribution\n",
    "sample_size = 1000  # Sample size\n",
    "\n",
    "# Generate a random sample from the Poisson distribution\n",
    "random_sample = np.random.poisson(mean, size=sample_size)\n",
    "\n",
    "# Calculate the sample mean and variance\n",
    "sample_mean = np.mean(random_sample)\n",
    "sample_variance = np.var(random_sample)\n",
    "\n",
    "print(\"Sample Mean:\", sample_mean)\n",
    "print(\"Sample Variance:\", sample_variance)\n"
   ]
  },
  {
   "cell_type": "markdown",
   "id": "1f5cd864-0a36-4952-8255-9035ff8a233b",
   "metadata": {},
   "source": [
    "9\n",
    "\n",
    "\n",
    "\n",
    "In the Poisson distribution, both the mean and the variance are equal to the rate parameter (λ). This means that the spread of the distribution is directly related to the average rate of occurrence of events. As the average rate increases, the distribution becomes more spread out, resulting in a larger variance.\n",
    "    \n",
    "In the Binomial distribution, the variance is directly proportional to both the number of trials (n) and the probability of success (p). As either n or p increases, the spread of the distribution widens, resulting in a larger variance.\n",
    " \n",
    "In summary,In the Binomial distribution, the variance depends on both the number of trials and the probability of success, whereas in the Poisson distribution, the variance is solely determined by the rate parameter, which represents the average rate of occurrence of events. Additionally, in the Poisson distribution, the mean and variance are equal, while in the Binomial distribution, they are related through the product of the number of trials and the probability of success.\n",
    "\n",
    "\n",
    "\n",
    "\n"
   ]
  },
  {
   "cell_type": "markdown",
   "id": "d962c33e-f5c1-46a6-b64c-77c5e328b52e",
   "metadata": {},
   "source": [
    "10\n",
    "\n",
    "\n",
    "\n",
    "In a normal distribution, also known as a Gaussian distribution, the least frequent data typically appears at the tails of the distribution, farthest away from the mean. This is because the normal distribution is symmetric around its mean, and as you move away from the mean towards the tails of the distribution, the probability density decreases.\n",
    "\n",
    "Specifically, the least frequent data appears in the tails of the distribution, which are located at the extremes, both to the left (negative side) and to the right (positive side) of the mean. As you move farther away from the mean in either direction, the probability density decreases exponentially, meaning that extreme values are less likely to occur.\n",
    "\n",
    "In a standard normal distribution (mean = 0, standard deviation = 1), about 68% of the data falls within one standard deviation of the mean, about 95% falls within two standard deviations, and about 99.7% falls within three standard deviations. Therefore, the data becomes increasingly sparse as you move beyond three standard deviations from the mean, with the least frequent data appearing in the tails beyond this range.\n",
    "\n"
   ]
  },
  {
   "cell_type": "code",
   "execution_count": null,
   "id": "3f2878e4-f153-4da7-b490-f4f75e2d3d64",
   "metadata": {},
   "outputs": [],
   "source": []
  }
 ],
 "metadata": {
  "kernelspec": {
   "display_name": "Python 3 (ipykernel)",
   "language": "python",
   "name": "python3"
  },
  "language_info": {
   "codemirror_mode": {
    "name": "ipython",
    "version": 3
   },
   "file_extension": ".py",
   "mimetype": "text/x-python",
   "name": "python",
   "nbconvert_exporter": "python",
   "pygments_lexer": "ipython3",
   "version": "3.10.8"
  }
 },
 "nbformat": 4,
 "nbformat_minor": 5
}
