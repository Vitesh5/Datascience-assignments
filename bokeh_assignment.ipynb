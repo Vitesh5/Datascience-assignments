{
 "cells": [
  {
   "cell_type": "code",
   "execution_count": 4,
   "id": "80dc7196-5b46-42cf-8bbd-58ba91852d0a",
   "metadata": {},
   "outputs": [
    {
     "name": "stderr",
     "output_type": "stream",
     "text": [
      "WARNING:bokeh.core.validation.check:W-1000 (MISSING_RENDERERS): Plot has no renderers: figure(id='p1379', ...)\n"
     ]
    }
   ],
   "source": [
    "#1\n",
    "\n",
    "from bokeh.plotting import figure, show\n",
    "\n",
    "# Prepare data\n",
    "x = [1, 2, 3, 4, 5]\n",
    "y = [6, 7, 2, 4, 5]\n",
    "\n",
    "# Create a figure object\n",
    "p = figure(title=\"Simple Scatter Plot\", x_axis_label='X-axis', y_axis_label='Y-axis')\n",
    "\n",
    "\n",
    "# Show the plot\n",
    "show(p)\n"
   ]
  },
  {
   "cell_type": "code",
   "execution_count": 5,
   "id": "cc0f9766-2e03-4138-b1a1-535fda988437",
   "metadata": {},
   "outputs": [],
   "source": [
    "#2\n",
    "\n",
    "#In Bokeh, glyphs are visual markers that represent data points or shapes on a plot. \n",
    "#Glyphs are added to a Bokeh plot using glyph methods provided by the figure object.\n",
    "\n",
    "from bokeh.plotting import figure, show\n",
    "\n",
    "# Prepare data\n",
    "x = [1, 2, 3, 4, 5]\n",
    "y = [6, 7, 2, 4, 5]\n",
    "\n",
    "# Create a figure object\n",
    "p = figure(title=\"Simple Scatter Plot\", x_axis_label='X-axis', y_axis_label='Y-axis')\n",
    "\n",
    "# Add glyphs to the figure\n",
    "p.circle(x, y, size=10, color=\"navy\", alpha=0.5)\n",
    "\n",
    "# Show the plot\n",
    "show(p)\n",
    "\n",
    "\n"
   ]
  },
  {
   "cell_type": "code",
   "execution_count": 7,
   "id": "b8173267-9994-476e-97e7-3d165b34094d",
   "metadata": {},
   "outputs": [],
   "source": [
    "#3 you can customise in thr following way\n",
    "\n",
    "from bokeh.plotting import figure, show\n",
    "\n",
    "# Prepare data\n",
    "x = [1, 2, 3, 4, 5]\n",
    "y = [6, 7, 2, 4, 5]\n",
    "\n",
    "# Create a figure object\n",
    "p = figure(title=\"Customized Plot\", \n",
    "           x_axis_label='X-axis', \n",
    "           y_axis_label='Y-axis',\n",
    "           x_range=(0, 6),  # Customize x-axis range\n",
    "           y_range=(0, 10), # Customize y-axis range\n",
    "           x_axis_type=\"linear\",  # Set x-axis type to linear (default)\n",
    "           y_axis_type=\"linear\")  # Set y-axis type to linear (default)\n",
    "       \n",
    "\n",
    "# Add glyphs to the figure\n",
    "p.circle(x, y, size=10, color=\"navy\", alpha=0.5, legend_label=\"Data\")\n",
    "\n",
    "# Customize legend\n",
    "p.legend.location = \"top_left\"  # Change legend location\n",
    "p.legend.title = \"Legend\"  # Set legend title\n",
    "\n",
    "# Show the plot\n",
    "show(p)\n"
   ]
  },
  {
   "cell_type": "code",
   "execution_count": null,
   "id": "43a5eadb-c91f-40f6-bc92-286c4cf6087a",
   "metadata": {},
   "outputs": [],
   "source": []
  }
 ],
 "metadata": {
  "kernelspec": {
   "display_name": "Python 3 (ipykernel)",
   "language": "python",
   "name": "python3"
  },
  "language_info": {
   "codemirror_mode": {
    "name": "ipython",
    "version": 3
   },
   "file_extension": ".py",
   "mimetype": "text/x-python",
   "name": "python",
   "nbconvert_exporter": "python",
   "pygments_lexer": "ipython3",
   "version": "3.10.8"
  }
 },
 "nbformat": 4,
 "nbformat_minor": 5
}
