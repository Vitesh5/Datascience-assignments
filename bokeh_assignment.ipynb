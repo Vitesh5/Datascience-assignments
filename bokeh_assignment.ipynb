{
 "cells": [
  {
   "cell_type": "code",
   "execution_count": 4,
   "id": "80dc7196-5b46-42cf-8bbd-58ba91852d0a",
   "metadata": {},
   "outputs": [
    {
     "name": "stderr",
     "output_type": "stream",
     "text": [
      "WARNING:bokeh.core.validation.check:W-1000 (MISSING_RENDERERS): Plot has no renderers: figure(id='p1379', ...)\n"
     ]
    }
   ],
   "source": [
    "#1\n",
    "\n",
    "from bokeh.plotting import figure, show\n",
    "\n",
    "# Prepare data\n",
    "x = [1, 2, 3, 4, 5]\n",
    "y = [6, 7, 2, 4, 5]\n",
    "\n",
    "# Create a figure object\n",
    "p = figure(title=\"Simple Scatter Plot\", x_axis_label='X-axis', y_axis_label='Y-axis')\n",
    "\n",
    "\n",
    "# Show the plot\n",
    "show(p)\n"
   ]
  },
  {
   "cell_type": "code",
   "execution_count": 5,
   "id": "cc0f9766-2e03-4138-b1a1-535fda988437",
   "metadata": {},
   "outputs": [],
   "source": [
    "#2\n",
    "\n",
    "#In Bokeh, glyphs are visual markers that represent data points or shapes on a plot. \n",
    "#Glyphs are added to a Bokeh plot using glyph methods provided by the figure object.\n",
    "\n",
    "from bokeh.plotting import figure, show\n",
    "\n",
    "# Prepare data\n",
    "x = [1, 2, 3, 4, 5]\n",
    "y = [6, 7, 2, 4, 5]\n",
    "\n",
    "# Create a figure object\n",
    "p = figure(title=\"Simple Scatter Plot\", x_axis_label='X-axis', y_axis_label='Y-axis')\n",
    "\n",
    "# Add glyphs to the figure\n",
    "p.circle(x, y, size=10, color=\"navy\", alpha=0.5)\n",
    "\n",
    "# Show the plot\n",
    "show(p)\n",
    "\n",
    "\n"
   ]
  },
  {
   "cell_type": "code",
   "execution_count": 7,
   "id": "b8173267-9994-476e-97e7-3d165b34094d",
   "metadata": {},
   "outputs": [],
   "source": [
    "#3 you can customise in thr following way\n",
    "\n",
    "from bokeh.plotting import figure, show\n",
    "\n",
    "# Prepare data\n",
    "x = [1, 2, 3, 4, 5]\n",
    "y = [6, 7, 2, 4, 5]\n",
    "\n",
    "# Create a figure object\n",
    "p = figure(title=\"Customized Plot\", \n",
    "           x_axis_label='X-axis', \n",
    "           y_axis_label='Y-axis',\n",
    "           x_range=(0, 6),  # Customize x-axis range\n",
    "           y_range=(0, 10), # Customize y-axis range\n",
    "           x_axis_type=\"linear\",  # Set x-axis type to linear (default)\n",
    "           y_axis_type=\"linear\")  # Set y-axis type to linear (default)\n",
    "       \n",
    "\n",
    "# Add glyphs to the figure\n",
    "p.circle(x, y, size=10, color=\"navy\", alpha=0.5, legend_label=\"Data\")\n",
    "\n",
    "# Customize legend\n",
    "p.legend.location = \"top_left\"  # Change legend location\n",
    "p.legend.title = \"Legend\"  # Set legend title\n",
    "\n",
    "# Show the plot\n",
    "show(p)\n"
   ]
  },
  {
   "cell_type": "code",
   "execution_count": 8,
   "id": "43a5eadb-c91f-40f6-bc92-286c4cf6087a",
   "metadata": {},
   "outputs": [],
   "source": [
    "#4 A Bokeh server is a Python framework that allows you to create and deploy interactive web applications with Bokeh plots. With the Bokeh server, you can build dynamic and responsive web applications that update in real time based on user interactions or external data sources. Bokeh server provides a flexible and powerful way to create interactive data visualization applications without needing to write complex JavaScript or HTML code."
   ]
  },
  {
   "cell_type": "code",
   "execution_count": 9,
   "id": "bc7fbbfb-314d-4c61-8635-d551622664d0",
   "metadata": {},
   "outputs": [],
   "source": [
    "#5 To embed a Bokeh plot into a web page or dashboard using Flask or Django, you typically follow these steps:\n",
    "\n",
    "#Create Bokeh Plot: First, create the Bokeh plot using Bokeh's plotting interface in Python. This involves importing the necessary Bokeh modules, defining the plot, adding glyphs, customizing appearance, etc.\n",
    "\n",
    "#Export Plot to HTML: Once the Bokeh plot is created, you can export it to an HTML file using Bokeh's output_file() function. This HTML file contains the necessary JavaScript and CSS code to render the Bokeh plot in a web browser.\n",
    "\n",
    "#Integrate HTML File: In your Flask or Django application, integrate the HTML file containing the Bokeh plot into your web page or dashboard template. You can do this by either directly including the HTML code or using a template engine like Jinja2 to render the HTML file dynamically.\n",
    "\n",
    "#Serve HTML File: Serve the web page or dashboard containing the Bokeh plot using Flask or Django. You can define routes or views in your application that render the web page or dashboard template and serve it to users when requested."
   ]
  },
  {
   "cell_type": "code",
   "execution_count": null,
   "id": "e2c6a013-740c-4f02-b957-63f227385d94",
   "metadata": {},
   "outputs": [],
   "source": []
  }
 ],
 "metadata": {
  "kernelspec": {
   "display_name": "Python 3 (ipykernel)",
   "language": "python",
   "name": "python3"
  },
  "language_info": {
   "codemirror_mode": {
    "name": "ipython",
    "version": 3
   },
   "file_extension": ".py",
   "mimetype": "text/x-python",
   "name": "python",
   "nbconvert_exporter": "python",
   "pygments_lexer": "ipython3",
   "version": "3.10.8"
  }
 },
 "nbformat": 4,
 "nbformat_minor": 5
}
