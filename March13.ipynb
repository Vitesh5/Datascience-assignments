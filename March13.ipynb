{
 "cells": [
  {
   "cell_type": "markdown",
   "id": "efeb494a-b1f5-4705-ae9a-c736b8f3ab83",
   "metadata": {},
   "source": [
    "#1\n",
    "Assumptions of ANOVA:\n",
    "\n",
    "To use ANOVA (Analysis of Variance), certain assumptions must be met to ensure the validity of the results. These assumptions are:\n",
    "\n",
    "Normality: The residuals (errors) should be normally distributed for each group.\n",
    "Independence: The observations should be independent of each other.\n",
    "Homogeneity of Variance: The variance of the residuals should be equal across all groups.\n",
    "Random Sampling: The samples should be randomly selected from the population.\n",
    "Violations of Assumptions:\n",
    "\n",
    "If these assumptions are not met, the results of the ANOVA may be invalid or misleading. Here are some examples of violations:\n",
    "\n",
    "1. Non-Normality:\n",
    "\n",
    "Example: A dataset with outliers or skewed distributions.\n",
    "Impact: Non-normality can lead to inaccurate p-values and false conclusions.\n",
    "2. Non-Independence:\n",
    "\n",
    "Example: Measurements taken from the same individual over time (e.g., repeated measures design).\n",
    "Impact: Non-independence can lead to inflated Type I error rates and incorrect conclusions.\n",
    "3. Heterogeneity of Variance:\n",
    "\n",
    "Example: A dataset with unequal variances across groups (e.g., one group has much larger variance than others).\n",
    "Impact: Heterogeneity of variance can lead to inaccurate p-values and false conclusions.\n",
    "4. Non-Random Sampling:\n",
    "\n",
    "Example: A convenience sample or a sample selected based on a specific criterion (e.g., only including people who responded to a survey).\n",
    "Impact: Non-random sampling can lead to biased results and incorrect conclusions."
   ]
  },
  {
   "cell_type": "markdown",
   "id": "213090aa-a621-4c6b-b856-0d2e8292e488",
   "metadata": {},
   "source": [
    "2.\n",
    "Three Types of ANOVA:\n",
    "\n",
    "One-Way ANOVA:\n",
    "Also known as Single-Factor ANOVA\n",
    "Compares the means of three or more groups based on a single independent variable (factor)\n",
    "Example: Comparing the average scores of students from three different schools\n",
    "Two-Way ANOVA:\n",
    "Also known as Two-Factor ANOVA\n",
    "Compares the means of groups based on two independent variables (factors)\n",
    "Example: Comparing the average scores of students from three different schools and two different teaching methods\n",
    "Repeated-Measures ANOVA:\n",
    "Also known as Within-Subjects ANOVA\n",
    "Compares the means of groups based on multiple measurements from the same subjects\n",
    "Example: Comparing the average scores of students before and after a training program\n",
    "\n",
    "When to Use Each:\n",
    "\n",
    "One-Way ANOVA:\n",
    "Use when you have a single independent variable with three or more levels (groups)\n",
    "Use when you want to compare the means of different groups based on a single factor\n",
    "Example: Comparing the average salaries of employees from different departments\n",
    "Two-Way ANOVA:\n",
    "Use when you have two independent variables with two or more levels each\n",
    "Use when you want to examine the interaction between two factors and their effect on the dependent variable\n",
    "Example: Comparing the average sales of different products in different regions\n",
    "Repeated-Measures ANOVA:\n",
    "Use when you have multiple measurements from the same subjects (e.g., before and after a treatment)\n",
    "Use when you want to examine the effect of a treatment or intervention over time\n",
    "Example: Comparing the average blood pressure of patients before and after a medication"
   ]
  },
  {
   "cell_type": "markdown",
   "id": "1dfe7b94-03a4-489b-9189-7720d7dcd427",
   "metadata": {},
   "source": [
    "#3\n",
    "\n",
    "\n",
    "In ANOVA, the partitioning of variance refers to the process of dividing the total variance in the dependent variable into different components, each attributed to a specific source of variation. This is a fundamental concept in ANOVA, as it allows us to quantify the amount of variation explained by each factor and to determine the significance of the effects.Understanding the partitioning of variance is crucial in ANOVA because it allows us to:\n",
    "\n",
    "Identify the Sources of Variation: By partitioning the variance, we can determine which factors contribute to the variation in the dependent variable and to what extent.\n",
    "Quantify the Effect Size: The partitioning of variance enables us to calculate the effect size, which is a measure of the magnitude of the effect of the independent variable on the dependent variable.\n",
    "Determine the Significance of the Effects: By comparing the between-groups variance to the within-groups variance, we can determine whether the differences between the groups are statistically significant.\n",
    "Interpret the Results: Understanding the partitioning of variance is essential for interpreting the results of ANOVA, including the F-statistic, p-value, and eta-squared."
   ]
  },
  {
   "cell_type": "code",
   "execution_count": 2,
   "id": "ebe978d6-8a94-492a-9085-0617f173bdd5",
   "metadata": {},
   "outputs": [
    {
     "name": "stdout",
     "output_type": "stream",
     "text": [
      "SST: 60.0\n",
      "SSE: 0.22222222222222066\n",
      "SSR: 59.77777777777778\n"
     ]
    }
   ],
   "source": [
    "#4\n",
    "import numpy as np\n",
    "from scipy.stats import f_oneway\n",
    "\n",
    "# Sample data\n",
    "groups = ['A', 'B', 'C']\n",
    "values = [23, 21, 19, 24, 20, 18, 25, 22, 17]\n",
    "\n",
    "# Calculate means for each group\n",
    "means = [np.mean(values[i:i+3]) for i in range(0, len(values), 3)]\n",
    "\n",
    "# Calculate SST (Total Sum of Squares)\n",
    "sst = np.sum((values - np.mean(values)) ** 2)\n",
    "\n",
    "# Calculate SSE (Explained Sum of Squares)\n",
    "sse = np.sum([len(groups[i]) * (means[i] - np.mean(values)) ** 2 for i in range(len(groups))])\n",
    "\n",
    "# Calculate SSR (Residual Sum of Squares)\n",
    "ssr = sst - sse\n",
    "\n",
    "print(\"SST:\", sst)\n",
    "print(\"SSE:\", sse)\n",
    "print(\"SSR:\", ssr)"
   ]
  },
  {
   "cell_type": "code",
   "execution_count": 4,
   "id": "9edde30c-e2d5-4939-bbd0-713e97308d8c",
   "metadata": {},
   "outputs": [
    {
     "name": "stdout",
     "output_type": "stream",
     "text": [
      "Main Effect A: 17.064516129032256\n",
      "Main Effect B: 0.34463276836158196\n",
      "Interaction A:B: nan\n"
     ]
    },
    {
     "name": "stderr",
     "output_type": "stream",
     "text": [
      "/opt/conda/lib/python3.10/site-packages/scipy/stats/_stats_py.py:3880: DegenerateDataWarning: all input arrays have length 1.  f_oneway requires that at least one input has length greater than 1.\n",
      "  warnings.warn(stats.DegenerateDataWarning(msg))\n"
     ]
    }
   ],
   "source": [
    "#5\n",
    "import pandas as pd\n",
    "from scipy.stats import f_oneway\n",
    "\n",
    "# Sample data\n",
    "data = pd.DataFrame({\n",
    "    'A': ['Low', 'Low', 'Low', 'High', 'High', 'High'],\n",
    "    'B': ['Small', 'Medium', 'Large', 'Small', 'Medium', 'Large'],\n",
    "    'Value': [10, 12, 15, 18, 20, 22]\n",
    "})\n",
    "\n",
    "# Calculate main effects and interaction effects\n",
    "main_effect_A = f_oneway(*[data[data['A'] == level]['Value'] for level in data['A'].unique()])[0]\n",
    "main_effect_B = f_oneway(*[data[data['B'] == level]['Value'] for level in data['B'].unique()])[0]\n",
    "interaction_AB = f_oneway(*[data[(data['A'] == level_A) & (data['B'] == level_B)]['Value'] for level_A in data['A'].unique() for level_B in data['B'].unique()])[0]\n",
    "\n",
    "print(\"Main Effect A:\", main_effect_A)\n",
    "print(\"Main Effect B:\", main_effect_B)\n",
    "print(\"Interaction A:B:\", interaction_AB)"
   ]
  },
  {
   "cell_type": "markdown",
   "id": "a0383883-a859-4deb-bfc6-8708a4d200e0",
   "metadata": {},
   "source": [
    "#6\n",
    "With an F-statistic of 5.23 and a p-value of 0.02, we can conclude that there are significant differences between the groups.\n",
    "\n",
    "\n",
    "Here's a step-by-step interpretation:\n",
    "\n",
    "Reject the null hypothesis: Since the p-value (0.02) is less than the typical significance level (0.05), we reject the null hypothesis that the means of the groups are equal.\n",
    "\n",
    "Alternative hypothesis: We accept the alternative hypothesis that the means of the groups are not equal.\n",
    "\n",
    "Significant differences: The F-statistic (5.23) indicates that the variance between groups is significantly larger than the variance within groups. This suggests that there are significant differences between the groups.\n",
    "\n",
    "Post-hoc analysis: To determine which specific groups are different from each other, we would need to perform a post-hoc analysis, such as Tukey's HSD or Scheffé's method."
   ]
  },
  {
   "cell_type": "markdown",
   "id": "a826fac7-16b6-4f63-9aa4-c8bf9e8458fa",
   "metadata": {},
   "source": [
    "#7\n",
    "Listwise deletion: Remove entire rows with missing values.\n",
    "\n",
    "Pairwise deletion: Remove only the specific values that are missing, but keep the rest of the data.\n",
    "\n",
    "Mean/median imputation: Replace missing values with the mean or median of the respective column.\n",
    "\n",
    "Interpolation: Fill missing values using interpolation methods (e.g., linear, polynomial).\n",
    "\n",
    "Multiple imputation: Use multiple imputation techniques, such as Bayesian imputation or multiple regression imputation."
   ]
  },
  {
   "cell_type": "markdown",
   "id": "5add0919-5d1e-4d45-a340-5ae1f256a80f",
   "metadata": {},
   "source": [
    "#8\n",
    "\n",
    "In Python, you can use the statsmodels library to perform post-hoc tests. Here are some common post-hoc tests and when to use each one:\n",
    "\n",
    "Tukey's HSD (Honestly Significant Difference):\n",
    "Use when: You want to compare all possible pairs of means to determine which groups are significantly different from each other.\n",
    "Example: Comparing the means of three different fertilizers on plant growth.\n",
    "\n",
    "Scheffé's method:\n",
    "Use when: You want to compare all possible pairs of means, and you have a large number of groups.\n",
    "Example: Comparing the means of five different teaching methods on student performance.\n",
    "\n",
    "Dunnett's test:\n",
    "Use when: You want to compare each group to a control group or a reference group.\n",
    "Example: Comparing the means of three different medications to a placebo group.\n",
    "\n",
    "Bonferroni correction:\n",
    "Use when: You want to adjust for multiple comparisons to avoid Type I errors.\n",
    "Example: Comparing the means of four different groups, and you want to adjust for the multiple comparisons."
   ]
  },
  {
   "cell_type": "code",
   "execution_count": 1,
   "id": "1ac64475-f289-494a-a8d5-bdb4f0da17bb",
   "metadata": {},
   "outputs": [
    {
     "name": "stdout",
     "output_type": "stream",
     "text": [
      "F-statistic: 0.021473972469966216\n",
      "p-value: 0.9787645487792678\n"
     ]
    }
   ],
   "source": [
    "#9\n",
    "\n",
    "import numpy as np\n",
    "import pandas as pd\n",
    "from scipy import stats\n",
    "\n",
    "# Seed for reproducibility\n",
    "np.random.seed(0)\n",
    "\n",
    "# Simulate weight loss data for 50 participants in three diet groups\n",
    "group_A = np.random.normal(loc=5, scale=2, size=50//3)\n",
    "group_B = np.random.normal(loc=6, scale=2, size=50//3)\n",
    "group_C = np.random.normal(loc=7, scale=2, size=50//3 + 50%3)  # Handle the remainder participants\n",
    "\n",
    "# Combine data into a DataFrame for clarity\n",
    "data = pd.DataFrame({\n",
    "    'Weight_Loss': np.concatenate([group_A, group_B, group_C]),\n",
    "    'Diet': ['A'] * len(group_A) + ['B'] * len(group_B) + ['C'] * len(group_C)\n",
    "})\n",
    "\n",
    "# Perform one-way ANOVA\n",
    "f_statistic, p_value = stats.f_oneway(group_A, group_B, group_C)\n",
    "\n",
    "print(f\"F-statistic: {f_statistic}\")\n",
    "print(f\"p-value: {p_value}\")\n"
   ]
  },
  {
   "cell_type": "code",
   "execution_count": 10,
   "id": "81230a04-a8d2-4632-be57-918cc6a1c710",
   "metadata": {},
   "outputs": [
    {
     "name": "stdout",
     "output_type": "stream",
     "text": [
      "                               sum_sq    df         F    PR(>F)\n",
      "C(program)                 653.740216   2.0  5.021757  0.015070\n",
      "C(experience)              133.255682   1.0  2.047228  0.165376\n",
      "C(program):C(experience)   161.994513   2.0  1.244374  0.306054\n",
      "Residual                  1562.178803  24.0       NaN       NaN\n"
     ]
    }
   ],
   "source": [
    "#10\n",
    "import pandas as pd\n",
    "import numpy as np\n",
    "\n",
    "# Generate sample data\n",
    "np.random.seed(42)\n",
    "n = 30  # Number of employees\n",
    "\n",
    "# Simulate employee data\n",
    "employees = pd.DataFrame({\n",
    "    'time': np.random.normal(loc=50, scale=10, size=n),  # Normally distributed task completion times\n",
    "    'program': np.random.choice(['A', 'B', 'C'], size=n),  # Randomly assign software programs\n",
    "    'experience': np.random.choice(['novice', 'experienced'], size=n)  # Randomly assign experience level\n",
    "})\n",
    "\n",
    "# Adjust times for different programs and experience levels\n",
    "for idx, row in employees.iterrows():\n",
    "    if row['program'] == 'A':\n",
    "        employees.at[idx, 'time'] += 5  # Program A is slower on average\n",
    "    elif row['program'] == 'B':\n",
    "        employees.at[idx, 'time'] -= 5  # Program B is faster on average\n",
    "    if row['experience'] == 'experienced':\n",
    "        employees.at[idx, 'time'] -= 5  # Experienced employees are faster on average\n",
    "import statsmodels.api as sm\n",
    "from statsmodels.formula.api import ols\n",
    "from statsmodels.stats.anova import anova_lm\n",
    "\n",
    "# Define the model\n",
    "model = ols('time ~ C(program) + C(experience) + C(program):C(experience)', data=employees).fit()\n",
    "\n",
    "# Perform ANOVA\n",
    "anova_results = anova_lm(model, typ=2)\n",
    "\n",
    "# Display the results\n",
    "print(anova_results)\n"
   ]
  },
  {
   "cell_type": "code",
   "execution_count": 2,
   "id": "672d577b-2f7f-4f0e-b343-b630f5390c86",
   "metadata": {},
   "outputs": [
    {
     "name": "stdout",
     "output_type": "stream",
     "text": [
      "Two-sample t-test results:\n",
      "t-statistic: -3.76\n",
      "p-value: 0.0006\n",
      "\n",
      "Post-hoc test results:\n",
      "   Multiple Comparison of Means - Tukey HSD, FWER=0.05   \n",
      "=========================================================\n",
      " group1    group2    meandiff p-adj  lower  upper  reject\n",
      "---------------------------------------------------------\n",
      "Control Experimental     5.85 0.0006 2.7026 8.9974   True\n",
      "---------------------------------------------------------\n"
     ]
    }
   ],
   "source": [
    "#11\n",
    "import numpy as np\n",
    "from scipy import stats\n",
    "import statsmodels.api as sm\n",
    "from statsmodels.stats.multicomp import pairwise_tukeyhsd\n",
    "\n",
    "# Sample data (replace with your actual data)\n",
    "control_group = np.array([85, 78, 92, 88, 76, 95, 89, 91, 84, 90, 87, 93, 96, 82, 80, 94, 86, 98, 81, 83])\n",
    "experimental_group = np.array([90, 92, 95, 88, 91, 96, 89, 94, 93, 97, 92, 90, 98, 91, 95, 99, 94, 96, 93, 92])\n",
    "\n",
    "# Two-sample t-test\n",
    "t_stat, p_val = stats.ttest_ind(control_group, experimental_group)\n",
    "print(\"Two-sample t-test results:\")\n",
    "print(f\"t-statistic: {t_stat:.2f}\")\n",
    "print(f\"p-value: {p_val:.4f}\")\n",
    "\n",
    "# If p-value is significant (e.g., < 0.05), proceed with post-hoc test\n",
    "if p_val < 0.05:\n",
    "    print(\"\\nPost-hoc test results:\")\n",
    "    # Create a dataframe with the data\n",
    "    df = pd.DataFrame({'Group': ['Control'] * len(control_group) + ['Experimental'] * len(experimental_group),\n",
    "                       'Score': np.concatenate((control_group, experimental_group))})\n",
    "\n",
    "    # Perform Tukey's HSD test\n",
    "    tukey_results = pairwise_tukeyhsd(endog=df['Score'], groups=df['Group'], alpha=0.05)\n",
    "    print(tukey_results)"
   ]
  },
  {
   "cell_type": "code",
   "execution_count": 4,
   "id": "3058b8be-b3c3-4869-97eb-5281b1563c5d",
   "metadata": {},
   "outputs": [
    {
     "name": "stdout",
     "output_type": "stream",
     "text": [
      "               Anova\n",
      "===================================\n",
      "      F Value Num DF  Den DF Pr > F\n",
      "-----------------------------------\n",
      "Store  0.9395 2.0000 58.0000 0.3967\n",
      "===================================\n",
      "\n"
     ]
    }
   ],
   "source": [
    "#12\n",
    "import pandas as pd\n",
    "import numpy as np\n",
    "from statsmodels.stats.anova import AnovaRM\n",
    "import statsmodels.stats.multicomp as multi\n",
    "\n",
    "# Generate synthetic sales data\n",
    "np.random.seed(0)\n",
    "\n",
    "days = np.arange(1, 31)\n",
    "sales_A = np.random.normal(loc=200, scale=20, size=30)\n",
    "sales_B = np.random.normal(loc=220, scale=20, size=30)\n",
    "sales_C = np.random.normal(loc=210, scale=20, size=30)\n",
    "\n",
    "data = {\n",
    "    'Day': np.tile(days, 3),\n",
    "    'Store': np.repeat(['Store_A', 'Store_B', 'Store_C'], 30),\n",
    "    'Sales': np.concatenate([sales_A, sales_B, sales_C])\n",
    "}\n",
    "\n",
    "df = pd.DataFrame(data)\n",
    "\n",
    "# Perform repeated measures ANOVA\n",
    "aovrm = AnovaRM(df, 'Sales', 'Day', within=['Store'])\n",
    "res = aovrm.fit()\n",
    "anova_results = res.summary()\n",
    "\n",
    "# Perform post-hoc test if ANOVA is significant\n",
    "post_hoc_results = None\n",
    "if res.anova_table['Pr > F'][0] < 0.05:\n",
    "    mc = multi.MultiComparison(df['Sales'], df['Store'])\n",
    "    post_hoc_results = mc.tukeyhsd()\n",
    "\n",
    "print(anova_results)\n",
    "if post_hoc_results:\n",
    "    print(post_hoc_results)\n"
   ]
  },
  {
   "cell_type": "code",
   "execution_count": null,
   "id": "fa258fd3-63b7-4263-a52f-d212873811e3",
   "metadata": {},
   "outputs": [],
   "source": []
  }
 ],
 "metadata": {
  "kernelspec": {
   "display_name": "Python 3 (ipykernel)",
   "language": "python",
   "name": "python3"
  },
  "language_info": {
   "codemirror_mode": {
    "name": "ipython",
    "version": 3
   },
   "file_extension": ".py",
   "mimetype": "text/x-python",
   "name": "python",
   "nbconvert_exporter": "python",
   "pygments_lexer": "ipython3",
   "version": "3.10.8"
  }
 },
 "nbformat": 4,
 "nbformat_minor": 5
}
