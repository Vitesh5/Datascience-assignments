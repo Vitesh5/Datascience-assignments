{
 "cells": [
  {
   "cell_type": "code",
   "execution_count": 17,
   "id": "2c4b9bb8-8a98-40af-abee-02e09408b0aa",
   "metadata": {},
   "outputs": [],
   "source": [
    "#1\n",
    "\n",
    "class vehicle:\n",
    "    def __init__(self,name_of_vehicle, max_speed,average_of_vehicle):\n",
    "        self.name_of_vehicle = name_of_vehicle\n",
    "        self.max_speed= max_speed\n",
    "        self.average_of_vehicle= average_of_vehicle"
   ]
  },
  {
   "cell_type": "code",
   "execution_count": 18,
   "id": "4ba21cf8-e60c-4f8a-b32b-ac44029e614c",
   "metadata": {},
   "outputs": [],
   "source": [
    "#2\n",
    "\n",
    "class vehicle:\n",
    "    def __init__(self,name_of_vehicle, max_speed,average_of_vehicle):\n",
    "        self.name_of_vehicle = name_of_vehicle\n",
    "        self.max_speed= max_speed\n",
    "        self.average_of_vehicle= average_of_vehicle\n",
    "        \n",
    "class child_car(vehicle):\n",
    "    def seating_capacity(self,capacity):\n",
    "        return f\"{self.name_of_vehicle} has a capacity of {capacity}\"\n",
    "        "
   ]
  },
  {
   "cell_type": "code",
   "execution_count": 19,
   "id": "bfbb5d3e-127b-42e4-b623-355aa3e13d17",
   "metadata": {},
   "outputs": [],
   "source": [
    "#3\n",
    "\n",
    "#Multiple inheritance is a feature in object-oriented programming languages like Python, where a class can inherit attributes and methods from more than one base class. In multiple inheritance,\n",
    "# a class can inherit from multiple parent classes, allowing it to incorporate the characteristics and behavior of those parent classes\n",
    "\n",
    "\n",
    "\n",
    "\n",
    "class vehicle:\n",
    "    def __init__(self, name_of_vehicle, max_speed, average_of_vehicle):\n",
    "        self.name_of_vehicle = name_of_vehicle\n",
    "        self.max_speed = max_speed\n",
    "        self.average_of_vehicle = average_of_vehicle\n",
    "\n",
    "class child_car:\n",
    "    def seating_capacity(self, capacity):\n",
    "        return f\" car has a capacity of {capacity} people.\"\n",
    "\n",
    "class price_range(child_car,vehicle):\n",
    "    def __init__(self,  price):\n",
    "        \n",
    "        self.price = price\n",
    "\n",
    "\n",
    "\n",
    "        "
   ]
  },
  {
   "cell_type": "code",
   "execution_count": 20,
   "id": "fc783e5a-74f9-4c0d-a629-f0a0c29f1dd5",
   "metadata": {},
   "outputs": [],
   "source": [
    "#4 \n",
    "\n",
    "\n",
    "#getter and setter methods are used to access and modify the private attributes of a class.\n",
    "\n",
    "class pwskills:\n",
    "    \n",
    "    \n",
    "    def __init__(self,birth_place, hometown):\n",
    "        self.birth_place = birth_place\n",
    "        self.__hometown = hometown\n",
    "        \n",
    "    @property\n",
    "    def hometown_access(self):\n",
    "        return self.__hometown\n",
    "    \n",
    "    @hometown_access.setter\n",
    "    def info(self, place):\n",
    "        return place"
   ]
  },
  {
   "cell_type": "code",
   "execution_count": null,
   "id": "8dc0ee14-d5e9-4ded-b1a3-8a83911878ca",
   "metadata": {},
   "outputs": [],
   "source": []
  }
 ],
 "metadata": {
  "kernelspec": {
   "display_name": "Python 3 (ipykernel)",
   "language": "python",
   "name": "python3"
  },
  "language_info": {
   "codemirror_mode": {
    "name": "ipython",
    "version": 3
   },
   "file_extension": ".py",
   "mimetype": "text/x-python",
   "name": "python",
   "nbconvert_exporter": "python",
   "pygments_lexer": "ipython3",
   "version": "3.10.8"
  }
 },
 "nbformat": 4,
 "nbformat_minor": 5
}
